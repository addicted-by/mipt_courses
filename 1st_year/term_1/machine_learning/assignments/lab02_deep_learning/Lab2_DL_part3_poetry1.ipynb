{
  "nbformat": 4,
  "nbformat_minor": 0,
  "metadata": {
    "anaconda-cloud": {},
    "colab": {
      "name": "Lab3_DL_part3_poetry.ipynb",
      "provenance": [],
      "collapsed_sections": [],
      "toc_visible": true
    },
    "kernelspec": {
      "display_name": "Python 3",
      "language": "python",
      "name": "python3"
    },
    "language_info": {
      "codemirror_mode": {
        "name": "ipython",
        "version": 3
      },
      "file_extension": ".py",
      "mimetype": "text/x-python",
      "name": "python",
      "nbconvert_exporter": "python",
      "pygments_lexer": "ipython3",
      "version": "3.8.5"
    }
  },
  "cells": [
    {
      "cell_type": "markdown",
      "metadata": {
        "id": "hY_ZtwA1pQUl"
      },
      "source": [
        "## Lab 3"
      ]
    },
    {
      "cell_type": "markdown",
      "metadata": {
        "id": "6UCJCmLUpQUm"
      },
      "source": [
        "### Part 3. Poetry generation\n",
        "\n",
        "Let's try to generate some poetry using RNNs. \n",
        "\n",
        "You have several choices here: \n",
        "\n",
        "* The Shakespeare sonnets, file `sonnets.txt` available in the notebook directory.\n",
        "\n",
        "* Роман в стихах \"Евгений Онегин\" Александра Сергеевича Пушкина. В предобработанном виде доступен по [ссылке](https://github.com/attatrol/data_sources/blob/master/onegin.txt).\n",
        "\n",
        "* Some other text source, if it will be approved by the course staff.\n",
        "\n",
        "Text generation can be designed in several steps:\n",
        "    \n",
        "1. Data loading.\n",
        "2. Dictionary generation.\n",
        "3. Data preprocessing.\n",
        "4. Model (neural network) training.\n",
        "5. Text generation (model evaluation).\n"
      ]
    },
    {
      "cell_type": "code",
      "metadata": {
        "id": "CjZ8MmgbpQUo"
      },
      "source": [
        "import matplotlib.pyplot as plt\n",
        "%matplotlib inline\n",
        "import numpy as np\n",
        "import os\n",
        "import string\n",
        "import re\n",
        "import time\n",
        "import torch\n",
        "import typing"
      ],
      "execution_count": 9,
      "outputs": []
    },
    {
      "cell_type": "code",
      "metadata": {
        "id": "lYGFmYwjDfLa"
      },
      "source": [
        "device = 'cuda:0' if torch.cuda.is_available() else 'cpu'"
      ],
      "execution_count": 10,
      "outputs": []
    },
    {
      "cell_type": "code",
      "metadata": {
        "id": "d93czUaDN_Sx"
      },
      "source": [
        " # Флаг для тестирование и запуска\n",
        "DEBUG = False"
      ],
      "execution_count": 11,
      "outputs": []
    },
    {
      "cell_type": "markdown",
      "metadata": {
        "id": "yPEb33ExpQUw"
      },
      "source": [
        "## **Data loading**"
      ]
    },
    {
      "cell_type": "markdown",
      "metadata": {
        "id": "q6zrsMoDpQUx"
      },
      "source": [
        "Shakespeare sonnets are awailable at this [link](http://www.gutenberg.org/ebooks/1041?msg=welcome_stranger). In addition, they are stored in the same directory as this notebook (`sonnetes.txt`). Simple preprocessing is already done for you in the next cell: all technical info is dropped."
      ]
    },
    {
      "cell_type": "code",
      "metadata": {
        "id": "5zsqgTcNpQUy"
      },
      "source": [
        "if not os.path.exists('sonnets.txt'):\n",
        "    !wget https://raw.githubusercontent.com/ml-mipt/ml-mipt/master/homeworks_basic/Lab2_DL/sonnets.txt\n",
        "\n",
        "with open('sonnets.txt', 'r') as iofile:\n",
        "    text = iofile.readlines()\n",
        "    \n",
        "TEXT_START = 45\n",
        "TEXT_END = -368\n",
        "text = text[TEXT_START : TEXT_END]\n",
        "assert len(text) == 2616"
      ],
      "execution_count": 12,
      "outputs": []
    },
    {
      "cell_type": "code",
      "metadata": {
        "colab": {
          "base_uri": "https://localhost:8080/",
          "height": 298
        },
        "id": "fGCayDo9b1nY",
        "outputId": "71344d17-fb30-467f-ccbb-a613a60c9f3f"
      },
      "source": [
        "MAX_LENGTH = max(map(len, text))\n",
        "print(\"max length =\", MAX_LENGTH)\n",
        "\n",
        "plt.title('Sequence length distribution')\n",
        "hist = plt.hist(list(map(len, text)),bins=MAX_LENGTH)"
      ],
      "execution_count": 13,
      "outputs": [
        {
          "output_type": "stream",
          "text": [
            "max length = 63\n"
          ],
          "name": "stdout"
        },
        {
          "output_type": "display_data",
          "data": {
            "image/png": "[encoded data removed]",
            "text/plain": [
              "<Figure size 432x288 with 1 Axes>"
            ]
          },
          "metadata": {
            "tags": [],
            "needs_background": "light"
          }
        }
      ]
    },
    {
      "cell_type": "markdown",
      "metadata": {
        "id": "xfapXeldrsho"
      },
      "source": [
        "All lines from text less than 10 characters in length serve as auxiliary information in the source."
      ]
    },
    {
      "cell_type": "markdown",
      "metadata": {
        "id": "7ZjOAlfFF3F5"
      },
      "source": [
        "## **Dictionary generation.**"
      ]
    },
    {
      "cell_type": "code",
      "metadata": {
        "id": "8IJqrFwHpQU7"
      },
      "source": [
        "# предобработка текста\n",
        "def replace(sentence, blacklist: str=string.digits+string.punctuation):\n",
        "      for char in blacklist:\n",
        "          sentence = sentence.translate({ord(char): None})\n",
        "      return sentence\n",
        "\n",
        "def refactor(text, len_thresholds: typing.Tuple[int, int]=(30, MAX_LENGTH), blacklist: str=string.digits+string.punctuation) -> str:\n",
        "    src_len, res_len = len_thresholds\n",
        "    return [\n",
        "        replace(sentence.lstrip().lower(), blacklist)  \n",
        "        for sentence in text\n",
        "        if src_len <= len(sentence) <= res_len\n",
        "    ]\n",
        "\n",
        "text = refactor(text)"
      ],
      "execution_count": 18,
      "outputs": []
    },
    {
      "cell_type": "code",
      "metadata": {
        "id": "2E0DTGL_pQVg"
      },
      "source": [
        "# Переведем все буквы в токены.\n",
        "tokens = set(\"\".join(text))\n",
        "\n",
        "# будем использовать пробел как <pad> \n",
        "tokens.add('<pad>')\n",
        "\n",
        "tokens = sorted(list(tokens))\n",
        "num_tokens = len(tokens)"
      ],
      "execution_count": 21,
      "outputs": []
    },
    {
      "cell_type": "code",
      "metadata": {
        "id": "5289lULHpQVo"
      },
      "source": [
        "# Создадим словари: `token_to_idx = {<char>: <index>}` и `idx_to_token = {<index>: <char>}`.\n",
        "idx_to_token = dict(list(enumerate(tokens)))\n",
        "token_to_idx = dict([(token, idx) for idx, token in idx_to_token.items()])\n",
        "\n",
        "# Проверка на равенство размеров словарей\n",
        "assert len(idx_to_token) == len(token_to_idx)\n",
        "\n",
        "# Проверим своего рода \"биекцию\" словарей\n",
        "for i in range(max(len(idx_to_token), len(token_to_idx))):\n",
        "    assert token_to_idx[idx_to_token[i]] == i"
      ],
      "execution_count": 24,
      "outputs": []
    },
    {
      "cell_type": "code",
      "metadata": {
        "id": "QTfogHyem4zy"
      },
      "source": [
        "PAD_IDX = token_to_idx['<pad>']"
      ],
      "execution_count": 25,
      "outputs": []
    },
    {
      "cell_type": "code",
      "metadata": {
        "colab": {
          "base_uri": "https://localhost:8080/"
        },
        "id": "6UVpilKcgPKH",
        "outputId": "222546db-8598-4e7b-9c2d-980bdca12013"
      },
      "source": [
        "# Шекспир использовал все буквы английского алфавита)\n",
        "token_to_idx"
      ],
      "execution_count": 27,
      "outputs": [
        {
          "output_type": "execute_result",
          "data": {
            "text/plain": [
              "{'\\n': 0,\n",
              " ' ': 1,\n",
              " '<pad>': 2,\n",
              " 'a': 3,\n",
              " 'b': 4,\n",
              " 'c': 5,\n",
              " 'd': 6,\n",
              " 'e': 7,\n",
              " 'f': 8,\n",
              " 'g': 9,\n",
              " 'h': 10,\n",
              " 'i': 11,\n",
              " 'j': 12,\n",
              " 'k': 13,\n",
              " 'l': 14,\n",
              " 'm': 15,\n",
              " 'n': 16,\n",
              " 'o': 17,\n",
              " 'p': 18,\n",
              " 'q': 19,\n",
              " 'r': 20,\n",
              " 's': 21,\n",
              " 't': 22,\n",
              " 'u': 23,\n",
              " 'v': 24,\n",
              " 'w': 25,\n",
              " 'x': 26,\n",
              " 'y': 27,\n",
              " 'z': 28}"
            ]
          },
          "metadata": {
            "tags": []
          },
          "execution_count": 27
        }
      ]
    },
    {
      "cell_type": "markdown",
      "metadata": {
        "id": "mGU5aSdhGCkc"
      },
      "source": [
        "## **Data preprocessing.**"
      ]
    },
    {
      "cell_type": "code",
      "metadata": {
        "id": "VPax_1_HnB_m"
      },
      "source": [
        "# Перевод токена в буквы\n",
        "def word_from_tokens(tokens: str) -> np.array:\n",
        "     return np.array([token_to_idx[token] for token in tokens])\n",
        "\n",
        "# Перевод уже в предложения \n",
        "def sentectence_to_tokens(batch: typing.List[str]) -> np.array:\n",
        "    return np.concatenate(list(map(word_from_tokens, batch)))"
      ],
      "execution_count": 68,
      "outputs": []
    },
    {
      "cell_type": "code",
      "metadata": {
        "id": "AFaRYXrtoX9n"
      },
      "source": [
        "# Сводим (сжимаем/растягиваем) к единому размеру\n",
        "def shape_text(text: typing.List[str], max_tokens_len: int):\n",
        "    joined_text = \" \".join(text)\n",
        "    n_tokens = len(joined_text) // max_tokens_len\n",
        "    reshaped_text = []\n",
        "    for i in range(0, n_tokens * max_tokens_len, max_tokens_len):\n",
        "        reshaped_text.append(joined_text[i:i+max_tokens_len])\n",
        "    return reshaped_text"
      ],
      "execution_count": 78,
      "outputs": []
    },
    {
      "cell_type": "code",
      "metadata": {
        "id": "29rrDzv6juwg"
      },
      "source": [
        "# Переводим предложения в матрицы для RNN\n",
        "def to_matrix(text: typing.List[str], max_len: int=None, pad: int=PAD_IDX, dtype: str='int32', batch_first: bool=True):\n",
        "    size = max_len or max(map(len, text))\n",
        "    matrix = np.zeros([len(text), size], dtype) + pad\n",
        "    for i in range(len(text)):\n",
        "        line_ix = sentectence_to_tokens([text[i]])\n",
        "        matrix[i, :len(line_ix)] = line_ix\n",
        "    if not batch_first:\n",
        "        matrix = np.transpose(matrix)\n",
        "    return torch.tensor(matrix, dtype=torch.int64)"
      ],
      "execution_count": 83,
      "outputs": []
    },
    {
      "cell_type": "code",
      "metadata": {
        "colab": {
          "base_uri": "https://localhost:8080/"
        },
        "id": "voj6kWzetvZP",
        "outputId": "645fce9e-7cf2-4c8c-f231-a946802e8188"
      },
      "source": [
        "from pprint import pprint\n",
        "\n",
        "pprint(text[:5])\n",
        "transformed_text = to_matrix(text[:5])\n",
        "pprint(transformed_text)"
      ],
      "execution_count": 66,
      "outputs": [
        {
          "output_type": "stream",
          "text": [
            "['from fairest creatures we desire increase\\n',\n",
            " 'that thereby beautys rose might never die\\n',\n",
            " 'but as the riper should by time decease\\n',\n",
            " 'his tender heir might bear his memory\\n',\n",
            " 'but thou contracted to thine own bright eyes\\n']\n",
            "tensor([[ 8, 20, 17, 15,  1,  8,  3, 11, 20,  7, 21, 22,  1,  5, 20,  7,  3, 22,\n",
            "         23, 20,  7, 21,  1, 25,  7,  1,  6,  7, 21, 11, 20,  7,  1, 11, 16,  5,\n",
            "         20,  7,  3, 21,  7,  0,  2,  2,  2],\n",
            "        [22, 10,  3, 22,  1, 22, 10,  7, 20,  7,  4, 27,  1,  4,  7,  3, 23, 22,\n",
            "         27, 21,  1, 20, 17, 21,  7,  1, 15, 11,  9, 10, 22,  1, 16,  7, 24,  7,\n",
            "         20,  1,  6, 11,  7,  0,  2,  2,  2],\n",
            "        [ 4, 23, 22,  1,  3, 21,  1, 22, 10,  7,  1, 20, 11, 18,  7, 20,  1, 21,\n",
            "         10, 17, 23, 14,  6,  1,  4, 27,  1, 22, 11, 15,  7,  1,  6,  7,  5,  7,\n",
            "          3, 21,  7,  0,  2,  2,  2,  2,  2],\n",
            "        [10, 11, 21,  1, 22,  7, 16,  6,  7, 20,  1, 10,  7, 11, 20,  1, 15, 11,\n",
            "          9, 10, 22,  1,  4,  7,  3, 20,  1, 10, 11, 21,  1, 15,  7, 15, 17, 20,\n",
            "         27,  0,  2,  2,  2,  2,  2,  2,  2],\n",
            "        [ 4, 23, 22,  1, 22, 10, 17, 23,  1,  5, 17, 16, 22, 20,  3,  5, 22,  7,\n",
            "          6,  1, 22, 17,  1, 22, 10, 11, 16,  7,  1, 17, 25, 16,  1,  4, 20, 11,\n",
            "          9, 10, 22,  1,  7, 27,  7, 21,  0]])\n"
          ],
          "name": "stdout"
        }
      ]
    },
    {
      "cell_type": "code",
      "metadata": {
        "id": "BOrNhG7sNPzv"
      },
      "source": [
        "N_EPOCHS_DEBUG = 16\n",
        "N_EPOCHS_RELEASE = 512\n",
        "N_EPOCHS = N_EPOCHS_DEBUG if DEBUG else N_EPOCHS_RELEASE"
      ],
      "execution_count": 69,
      "outputs": []
    },
    {
      "cell_type": "markdown",
      "metadata": {
        "id": "RNNz9OsbpQVu"
      },
      "source": [
        "## **Model (neural network) training: Vanilla**"
      ]
    },
    {
      "cell_type": "markdown",
      "metadata": {
        "id": "BFGGG4zHpQVv"
      },
      "source": [
        "Начнем с  `vanilla RNN`, большуя часть кода взяв в семинара."
      ]
    },
    {
      "cell_type": "code",
      "metadata": {
        "id": "_8iU8UYDuqNY"
      },
      "source": [
        "import torch, torch.nn as nn\n",
        "import torch.nn.functional as F"
      ],
      "execution_count": 70,
      "outputs": []
    },
    {
      "cell_type": "code",
      "metadata": {
        "id": "ozLPabASuJkb"
      },
      "source": [
        "def plot_loss(losses: list, title: str=None):\n",
        "    fig = plt.figure(figsize=(15, 10))\n",
        "    if title is not None:\n",
        "        plt.title(title)\n",
        "    plt.plot(losses)\n",
        "    plt.ylabel('Loss')\n",
        "    plt.xlabel('Epoch #')\n",
        "    plt.show()"
      ],
      "execution_count": 71,
      "outputs": []
    },
    {
      "cell_type": "code",
      "metadata": {
        "id": "2K729dK-ykLX"
      },
      "source": [
        "# Из семинара\n",
        "class VanillaCharRNN(nn.Module):\n",
        "   \n",
        "    def __init__(\n",
        "        self,\n",
        "        num_tokens: int=len(tokens),\n",
        "        embedding_size: int=64,\n",
        "        rnn_num_units: int=128\n",
        "    ):\n",
        "        super(VanillaCharRNN, self).__init__()\n",
        "        self.rnn_num_units = rnn_num_units\n",
        "        self.embedding = nn.Embedding(num_tokens, embedding_size)\n",
        "        self.rnn = nn.RNN(embedding_size, rnn_num_units, batch_first=True)\n",
        "        self.linear = nn.Linear(rnn_num_units, num_tokens)\n",
        "        \n",
        "    def forward(self, x, h_prev):\n",
        "        x_emb = self.embedding(x)\n",
        "        out, h_next = self.rnn(x_emb, h_prev)\n",
        "        logits = self.linear(out)\n",
        "        return h_next, logits\n",
        "    \n",
        "    def initial_state(self, batch_size):\n",
        "        return torch.zeros(1, batch_size, self.rnn_num_units, requires_grad=True)"
      ],
      "execution_count": 73,
      "outputs": []
    },
    {
      "cell_type": "code",
      "metadata": {
        "id": "dk5qalZVMyC1"
      },
      "source": [
        "def rnn_epoch(model, hidden_state, all_batches, batch_size):\n",
        "    global PAD_IDX\n",
        "    n_batches = all_batches.shape[0] // batch_size\n",
        "    loss = nn.CrossEntropyLoss(ignore_index=PAD_IDX)\n",
        "    epoch_loss = 0.0\n",
        "\n",
        "    for i in range(0, n_batches * batch_size, batch_size):\n",
        "        batch_ix = all_batches[i:i+batch_size]\n",
        "        hidden_state, out = model(batch_ix, hidden_state)\n",
        "        actual_next_tokens = batch_ix[:, 1:]\n",
        "\n",
        "        batch_loss = loss(out[:, :-1].reshape(-1, len(tokens)), actual_next_tokens.reshape(-1))\n",
        "        batch_loss.backward()\n",
        "\n",
        "        optimizer.step()\n",
        "        optimizer.zero_grad()\n",
        "        \n",
        "        epoch_loss += batch_loss.item()\n",
        "        hidden_state.detach_()\n",
        "        hidden_state = hidden_state.detach()\n",
        "\n",
        "    epoch_loss /= n_batches\n",
        "    return hidden_state, epoch_loss"
      ],
      "execution_count": 75,
      "outputs": []
    },
    {
      "cell_type": "code",
      "metadata": {
        "id": "voFoReB0vuKv"
      },
      "source": [
        "def train(model: nn.Module, n_epochs: int=16, optimizer=None, max_tokens_len: int=MAX_LENGTH-3, batch_size: int=10):\n",
        "    losses = []\n",
        "    # Привели к единому размеру\n",
        "    shaped_text = shape_text(text, max_tokens_len)\n",
        "    # Перевели в матрицу\n",
        "    all_batches = to_matrix(shaped_text, max_tokens_len)\n",
        "    # Поехали\n",
        "    state = model.initial_state(batch_size)\n",
        "\n",
        "    for epoch in range(n_epochs):\n",
        "        print(\"{}-st epoch of {}\".format(epoch + 1, n_epochs))\n",
        "        state, epoch_loss = rnn_epoch(model, state, all_batches, batch_size)\n",
        "        losses.append(epoch_loss)\n",
        "\n",
        "    return losses, state"
      ],
      "execution_count": 81,
      "outputs": []
    },
    {
      "cell_type": "code",
      "metadata": {
        "colab": {
          "base_uri": "https://localhost:8080/",
          "height": 606
        },
        "id": "eGFXn250iZXo",
        "outputId": "0e3931a5-8b58-4d1d-99f1-4948730402a6"
      },
      "source": [
        "model = VanillaCharRNN()\n",
        "optimizer = torch.optim.Adam(model.parameters())\n",
        "vanilla_losses, vanilla_state = train(model, N_EPOCHS, optimizer)\n",
        "plot_loss(vanilla_losses)"
      ],
      "execution_count": 85,
      "outputs": [
        {
          "output_type": "display_data",
          "data": {
            "image/png": "[encoded data removed]",
            "text/plain": [
              "<Figure size 1080x720 with 1 Axes>"
            ]
          },
          "metadata": {
            "tags": [],
            "needs_background": "light"
          }
        }
      ]
    },
    {
      "cell_type": "markdown",
      "metadata": {
        "id": "2zBkGuJ8s9CD"
      },
      "source": [
        "## **Text generation (model evaluation): Vanilla**"
      ]
    },
    {
      "cell_type": "code",
      "metadata": {
        "id": "3IYwVFxWpQV-"
      },
      "source": [
        "def generate_sample(model, seed_phrase=' ', max_length=400, temperature=1.0):\n",
        "    x_sequence = [token_to_idx[token] for token in seed_phrase]\n",
        "    x_sequence = torch.tensor([[x_sequence]], dtype=torch.long)\n",
        "    states = model.initial_state(batch_size=1)\n",
        "    \n",
        "    for i in range(len(seed_phrase) - 1):\n",
        "        states, _ = model(x_sequence[:, :, i], states)\n",
        "\n",
        "    for _ in range(max_length - len(seed_phrase)):\n",
        "        states, out = model(x_sequence[:,:, -1], states)\n",
        "        p_next = F.softmax(out / temperature, dim=-1).data.numpy()[0].ravel()\n",
        "        \n",
        "        next_ix = np.random.choice(len(tokens), p=p_next)\n",
        "        next_ix = torch.tensor([[[next_ix]]], dtype=torch.long)\n",
        "        x_sequence = torch.cat([x_sequence, next_ix], dim=2)\n",
        "    return ''.join([tokens[ix] for ix in x_sequence.data.numpy()[0][0]])"
      ],
      "execution_count": 86,
      "outputs": []
    },
    {
      "cell_type": "code",
      "metadata": {
        "colab": {
          "base_uri": "https://localhost:8080/"
        },
        "id": "vI3IUyTRpQWC",
        "outputId": "ecbcbf03-2324-46d5-da20-0407b4a180bd"
      },
      "source": [
        "for t in [0.1, 0.2, 0.5, 1.0, 2.0]:\n",
        "    print(f\"\\n\\tTemperature: {t}\")\n",
        "    print(generate_sample(model, seed_phrase=\"love death\", temperature=t))"
      ],
      "execution_count": 87,
      "outputs": [
        {
          "output_type": "stream",
          "text": [
            "\n",
            "\tTemperature: 0.1\n",
            "love death the fair in the world with my strenge\n",
            " the world with my self it is thou art to the world where is the state\n",
            " the world where is the store\n",
            " the world where is my love is the state\n",
            " the world where is the state\n",
            " the world where is the story then in thee that is the world with my love is the story then in the world where is the world with my state\n",
            " the world where is my love is thy self i\n",
            "\n",
            "\tTemperature: 0.2\n",
            "love death the lovd the world where is my love thee with my stores the world with the world where is thy self it the in the world with my strenge\n",
            " the in the world where is the state\n",
            " the willing spend\n",
            " and the in the world with the world with well\n",
            " that i am not be my strenge\n",
            " the world where is my self and thou shouldst the star what thou mayst thou mayst he will thou art the world where is the \n",
            "\n",
            "\tTemperature: 0.5\n",
            "love death inconstant consider sweet soul looks to the still cank seeing\n",
            " and i will hold no more\n",
            " but despen\n",
            " in other my love is thou art\n",
            " that they all the perfect when thou make the thought to make my silet to this pen\n",
            " i a poets with time and proud of found hate despise\n",
            " which that thou thy sweet some not hath not thou art but best on thee as it not thy strength strength upon thy self the loo\n",
            "\n",
            "\tTemperature: 1.0\n",
            "love death fater mine eye thy louds\n",
            " my neved in the respect\n",
            " torch checkd\n",
            " that when my desire\n",
            " and stores thou wit looks have not sin thou goon to that wish like every reaustrether this verse still\n",
            " that still from thee\n",
            " with power to horse praist thou maysmerse white wates kistry one praise\n",
            " better to been spurren their humbles strame prepe and tending chame weal pen coming of wel\n",
            " bot dovary g\n",
            "\n",
            "\tTemperature: 2.0\n",
            "love deaths cupplest\n",
            " unlet toit tes its\n",
            " wootime is main\n",
            " clatily\n",
            " spyet\n",
            " utddtak wiads quk kecw knw lols be blowoush her night thewel which hear from sha aboat rifussmd\n",
            " chnelay bil wesedpemp turkin thy not seet doth be\n",
            " balope upowit\n",
            " myse and frelki whough slagfours my lodysncarfudle rid faw tismd whitimed to that rudong\n",
            " no eety\n",
            " wn in phisd thrumens when mine\n",
            " unlearesst houce within that if\n"
          ],
          "name": "stdout"
        }
      ]
    },
    {
      "cell_type": "markdown",
      "metadata": {
        "id": "EQmHYlH7ur7f"
      },
      "source": [
        "Увеличение параметра провоцирует менее связный выход."
      ]
    },
    {
      "cell_type": "markdown",
      "metadata": {
        "id": "-tSTlBXYpQWH"
      },
      "source": [
        "## **Model (neural network) training: LSTM**"
      ]
    },
    {
      "cell_type": "code",
      "metadata": {
        "id": "yWStlEDtpQWI"
      },
      "source": [
        "class LSTMCharRNN(nn.Module):\n",
        "\n",
        "    def __init__(self, num_tokens: int=len(tokens), embedding_size: int=64, rnn_num_units: int=128):\n",
        "        super(LSTMCharRNN, self).__init__()\n",
        "        self.rnn_num_units = rnn_num_units\n",
        "        self.embedding = nn.Embedding(num_tokens, embedding_size, padding_idx=PAD_IDX)\n",
        "        self.lstm = nn.LSTM(embedding_size, rnn_num_units, batch_first=True)\n",
        "        self.linear = nn.Linear(rnn_num_units, num_tokens)\n",
        "        \n",
        "    def forward(self, x, states=None):\n",
        "        x_emb = self.embedding(x)\n",
        "        if states is None:\n",
        "            states = initial_state(1)\n",
        "        out, states = self.lstm(x_emb, states)\n",
        "        \n",
        "        logits = self.linear(out)\n",
        "        return states, logits\n",
        "    \n",
        "    def initial_state(self, batch_size) -> typing.Tuple[torch.Tensor, torch.Tensor]:\n",
        "        return (\n",
        "            torch.zeros(1, batch_size, self.rnn_num_units, requires_grad=True),\n",
        "            torch.zeros(1, batch_size, self.rnn_num_units, requires_grad=True)\n",
        "        )"
      ],
      "execution_count": 88,
      "outputs": []
    },
    {
      "cell_type": "code",
      "metadata": {
        "id": "6bVateH4M240"
      },
      "source": [
        "def rnn_epoch_lstm(model, states, all_batches, batch_size):\n",
        "    global PAD_IDX\n",
        "    n_batches = all_batches.shape[0] // batch_size\n",
        "    loss = nn.CrossEntropyLoss(ignore_index=PAD_IDX)\n",
        "    epoch_loss = 0.0\n",
        "\n",
        "    for i in range(0, n_batches * batch_size, batch_size):\n",
        "        batch_ix = all_batches[i:i+batch_size]\n",
        "        states, out = model(batch_ix, states)\n",
        "        hidden_state, cell_state = states\n",
        "        actual_next_tokens = batch_ix[:, 1:]\n",
        "\n",
        "        batch_loss = loss(out[:, :-1].reshape(-1, len(tokens)), actual_next_tokens.reshape(-1))\n",
        "        batch_loss.backward()\n",
        "\n",
        "        optimizer.step()\n",
        "        optimizer.zero_grad()\n",
        "\n",
        "        epoch_loss += batch_loss.item()\n",
        "\n",
        "        hidden_state.detach_()\n",
        "        hidden_state = hidden_state.detach()\n",
        "\n",
        "        cell_state.detach_()\n",
        "        cell_state = cell_state.detach()\n",
        "\n",
        "        states = hidden_state, cell_state\n",
        "        \n",
        "    epoch_loss /= n_batches\n",
        "    return states, epoch_loss"
      ],
      "execution_count": 89,
      "outputs": []
    },
    {
      "cell_type": "code",
      "metadata": {
        "colab": {
          "base_uri": "https://localhost:8080/",
          "height": 1000
        },
        "id": "OH6wUA_hz67h",
        "outputId": "88960efd-65b8-419e-ee2c-f5d76e3cd503"
      },
      "source": [
        "lstm_model = LSTMCharRNN()\n",
        "optimizer = torch.optim.Adam(lstm_model.parameters())\n",
        "\n",
        "lstm_losses, lstm_states = train(lstm_model, N_EPOCHS, optimizer)\n",
        "plot_loss(lstm_losses)"
      ],
      "execution_count": 91,
      "outputs": [
        {
          "output_type": "stream",
          "text": [
            "Epoch 1 of 512\n",
            "Epoch 2 of 512\n",
            "Epoch 3 of 512\n",
            "Epoch 4 of 512\n",
            "Epoch 5 of 512\n",
            "Epoch 6 of 512\n",
            "Epoch 7 of 512\n",
            "Epoch 8 of 512\n",
            "Epoch 9 of 512\n",
            "Epoch 10 of 512\n",
            "Epoch 11 of 512\n",
            "Epoch 12 of 512\n",
            "Epoch 13 of 512\n",
            "Epoch 14 of 512\n",
            "Epoch 15 of 512\n",
            "Epoch 16 of 512\n",
            "Epoch 17 of 512\n",
            "Epoch 18 of 512\n",
            "Epoch 19 of 512\n",
            "Epoch 20 of 512\n",
            "Epoch 21 of 512\n",
            "Epoch 22 of 512\n",
            "Epoch 23 of 512\n",
            "Epoch 24 of 512\n",
            "Epoch 25 of 512\n",
            "Epoch 26 of 512\n",
            "Epoch 27 of 512\n",
            "Epoch 28 of 512\n",
            "Epoch 29 of 512\n",
            "Epoch 30 of 512\n",
            "Epoch 31 of 512\n",
            "Epoch 32 of 512\n",
            "Epoch 33 of 512\n",
            "Epoch 34 of 512\n",
            "Epoch 35 of 512\n",
            "Epoch 36 of 512\n",
            "Epoch 37 of 512\n",
            "Epoch 38 of 512\n",
            "Epoch 39 of 512\n",
            "Epoch 40 of 512\n",
            "Epoch 41 of 512\n",
            "Epoch 42 of 512\n",
            "Epoch 43 of 512\n",
            "Epoch 44 of 512\n",
            "Epoch 45 of 512\n",
            "Epoch 46 of 512\n",
            "Epoch 47 of 512\n",
            "Epoch 48 of 512\n",
            "Epoch 49 of 512\n",
            "Epoch 50 of 512\n",
            "Epoch 51 of 512\n",
            "Epoch 52 of 512\n",
            "Epoch 53 of 512\n",
            "Epoch 54 of 512\n",
            "Epoch 55 of 512\n",
            "Epoch 56 of 512\n",
            "Epoch 57 of 512\n",
            "Epoch 58 of 512\n",
            "Epoch 59 of 512\n",
            "Epoch 60 of 512\n",
            "Epoch 61 of 512\n",
            "Epoch 62 of 512\n",
            "Epoch 63 of 512\n",
            "Epoch 64 of 512\n",
            "Epoch 65 of 512\n",
            "Epoch 66 of 512\n",
            "Epoch 67 of 512\n",
            "Epoch 68 of 512\n",
            "Epoch 69 of 512\n",
            "Epoch 70 of 512\n",
            "Epoch 71 of 512\n",
            "Epoch 72 of 512\n",
            "Epoch 73 of 512\n",
            "Epoch 74 of 512\n",
            "Epoch 75 of 512\n",
            "Epoch 76 of 512\n",
            "Epoch 77 of 512\n",
            "Epoch 78 of 512\n",
            "Epoch 79 of 512\n",
            "Epoch 80 of 512\n",
            "Epoch 81 of 512\n",
            "Epoch 82 of 512\n",
            "Epoch 83 of 512\n",
            "Epoch 84 of 512\n",
            "Epoch 85 of 512\n",
            "Epoch 86 of 512\n",
            "Epoch 87 of 512\n",
            "Epoch 88 of 512\n",
            "Epoch 89 of 512\n",
            "Epoch 90 of 512\n",
            "Epoch 91 of 512\n",
            "Epoch 92 of 512\n",
            "Epoch 93 of 512\n",
            "Epoch 94 of 512\n",
            "Epoch 95 of 512\n",
            "Epoch 96 of 512\n",
            "Epoch 97 of 512\n",
            "Epoch 98 of 512\n",
            "Epoch 99 of 512\n",
            "Epoch 100 of 512\n",
            "Epoch 101 of 512\n",
            "Epoch 102 of 512\n",
            "Epoch 103 of 512\n",
            "Epoch 104 of 512\n",
            "Epoch 105 of 512\n",
            "Epoch 106 of 512\n",
            "Epoch 107 of 512\n",
            "Epoch 108 of 512\n",
            "Epoch 109 of 512\n",
            "Epoch 110 of 512\n",
            "Epoch 111 of 512\n",
            "Epoch 112 of 512\n",
            "Epoch 113 of 512\n",
            "Epoch 114 of 512\n",
            "Epoch 115 of 512\n",
            "Epoch 116 of 512\n",
            "Epoch 117 of 512\n",
            "Epoch 118 of 512\n",
            "Epoch 119 of 512\n",
            "Epoch 120 of 512\n",
            "Epoch 121 of 512\n",
            "Epoch 122 of 512\n",
            "Epoch 123 of 512\n",
            "Epoch 124 of 512\n",
            "Epoch 125 of 512\n",
            "Epoch 126 of 512\n",
            "Epoch 127 of 512\n",
            "Epoch 128 of 512\n",
            "Epoch 129 of 512\n",
            "Epoch 130 of 512\n",
            "Epoch 131 of 512\n",
            "Epoch 132 of 512\n",
            "Epoch 133 of 512\n",
            "Epoch 134 of 512\n",
            "Epoch 135 of 512\n",
            "Epoch 136 of 512\n",
            "Epoch 137 of 512\n",
            "Epoch 138 of 512\n",
            "Epoch 139 of 512\n",
            "Epoch 140 of 512\n",
            "Epoch 141 of 512\n",
            "Epoch 142 of 512\n",
            "Epoch 143 of 512\n",
            "Epoch 144 of 512\n",
            "Epoch 145 of 512\n",
            "Epoch 146 of 512\n",
            "Epoch 147 of 512\n",
            "Epoch 148 of 512\n",
            "Epoch 149 of 512\n",
            "Epoch 150 of 512\n",
            "Epoch 151 of 512\n",
            "Epoch 152 of 512\n",
            "Epoch 153 of 512\n",
            "Epoch 154 of 512\n",
            "Epoch 155 of 512\n",
            "Epoch 156 of 512\n",
            "Epoch 157 of 512\n",
            "Epoch 158 of 512\n",
            "Epoch 159 of 512\n",
            "Epoch 160 of 512\n",
            "Epoch 161 of 512\n",
            "Epoch 162 of 512\n",
            "Epoch 163 of 512\n",
            "Epoch 164 of 512\n",
            "Epoch 165 of 512\n",
            "Epoch 166 of 512\n",
            "Epoch 167 of 512\n",
            "Epoch 168 of 512\n",
            "Epoch 169 of 512\n",
            "Epoch 170 of 512\n",
            "Epoch 171 of 512\n",
            "Epoch 172 of 512\n",
            "Epoch 173 of 512\n",
            "Epoch 174 of 512\n",
            "Epoch 175 of 512\n",
            "Epoch 176 of 512\n",
            "Epoch 177 of 512\n",
            "Epoch 178 of 512\n",
            "Epoch 179 of 512\n",
            "Epoch 180 of 512\n",
            "Epoch 181 of 512\n",
            "Epoch 182 of 512\n",
            "Epoch 183 of 512\n",
            "Epoch 184 of 512\n",
            "Epoch 185 of 512\n",
            "Epoch 186 of 512\n",
            "Epoch 187 of 512\n",
            "Epoch 188 of 512\n",
            "Epoch 189 of 512\n",
            "Epoch 190 of 512\n",
            "Epoch 191 of 512\n",
            "Epoch 192 of 512\n",
            "Epoch 193 of 512\n",
            "Epoch 194 of 512\n",
            "Epoch 195 of 512\n",
            "Epoch 196 of 512\n",
            "Epoch 197 of 512\n",
            "Epoch 198 of 512\n",
            "Epoch 199 of 512\n",
            "Epoch 200 of 512\n",
            "Epoch 201 of 512\n",
            "Epoch 202 of 512\n",
            "Epoch 203 of 512\n",
            "Epoch 204 of 512\n",
            "Epoch 205 of 512\n",
            "Epoch 206 of 512\n",
            "Epoch 207 of 512\n",
            "Epoch 208 of 512\n",
            "Epoch 209 of 512\n",
            "Epoch 210 of 512\n",
            "Epoch 211 of 512\n",
            "Epoch 212 of 512\n",
            "Epoch 213 of 512\n",
            "Epoch 214 of 512\n",
            "Epoch 215 of 512\n",
            "Epoch 216 of 512\n",
            "Epoch 217 of 512\n",
            "Epoch 218 of 512\n",
            "Epoch 219 of 512\n",
            "Epoch 220 of 512\n",
            "Epoch 221 of 512\n",
            "Epoch 222 of 512\n",
            "Epoch 223 of 512\n",
            "Epoch 224 of 512\n",
            "Epoch 225 of 512\n",
            "Epoch 226 of 512\n",
            "Epoch 227 of 512\n",
            "Epoch 228 of 512\n",
            "Epoch 229 of 512\n",
            "Epoch 230 of 512\n",
            "Epoch 231 of 512\n",
            "Epoch 232 of 512\n",
            "Epoch 233 of 512\n",
            "Epoch 234 of 512\n",
            "Epoch 235 of 512\n",
            "Epoch 236 of 512\n",
            "Epoch 237 of 512\n",
            "Epoch 238 of 512\n",
            "Epoch 239 of 512\n",
            "Epoch 240 of 512\n",
            "Epoch 241 of 512\n",
            "Epoch 242 of 512\n",
            "Epoch 243 of 512\n",
            "Epoch 244 of 512\n",
            "Epoch 245 of 512\n",
            "Epoch 246 of 512\n",
            "Epoch 247 of 512\n",
            "Epoch 248 of 512\n",
            "Epoch 249 of 512\n",
            "Epoch 250 of 512\n",
            "Epoch 251 of 512\n",
            "Epoch 252 of 512\n",
            "Epoch 253 of 512\n",
            "Epoch 254 of 512\n",
            "Epoch 255 of 512\n",
            "Epoch 256 of 512\n",
            "Epoch 257 of 512\n",
            "Epoch 258 of 512\n",
            "Epoch 259 of 512\n",
            "Epoch 260 of 512\n",
            "Epoch 261 of 512\n",
            "Epoch 262 of 512\n",
            "Epoch 263 of 512\n",
            "Epoch 264 of 512\n",
            "Epoch 265 of 512\n",
            "Epoch 266 of 512\n",
            "Epoch 267 of 512\n",
            "Epoch 268 of 512\n",
            "Epoch 269 of 512\n",
            "Epoch 270 of 512\n",
            "Epoch 271 of 512\n",
            "Epoch 272 of 512\n",
            "Epoch 273 of 512\n",
            "Epoch 274 of 512\n",
            "Epoch 275 of 512\n",
            "Epoch 276 of 512\n",
            "Epoch 277 of 512\n",
            "Epoch 278 of 512\n",
            "Epoch 279 of 512\n",
            "Epoch 280 of 512\n",
            "Epoch 281 of 512\n",
            "Epoch 282 of 512\n",
            "Epoch 283 of 512\n",
            "Epoch 284 of 512\n",
            "Epoch 285 of 512\n",
            "Epoch 286 of 512\n",
            "Epoch 287 of 512\n",
            "Epoch 288 of 512\n",
            "Epoch 289 of 512\n",
            "Epoch 290 of 512\n",
            "Epoch 291 of 512\n",
            "Epoch 292 of 512\n",
            "Epoch 293 of 512\n",
            "Epoch 294 of 512\n",
            "Epoch 295 of 512\n",
            "Epoch 296 of 512\n",
            "Epoch 297 of 512\n",
            "Epoch 298 of 512\n",
            "Epoch 299 of 512\n",
            "Epoch 300 of 512\n",
            "Epoch 301 of 512\n",
            "Epoch 302 of 512\n",
            "Epoch 303 of 512\n",
            "Epoch 304 of 512\n",
            "Epoch 305 of 512\n",
            "Epoch 306 of 512\n",
            "Epoch 307 of 512\n",
            "Epoch 308 of 512\n",
            "Epoch 309 of 512\n",
            "Epoch 310 of 512\n",
            "Epoch 311 of 512\n",
            "Epoch 312 of 512\n",
            "Epoch 313 of 512\n",
            "Epoch 314 of 512\n",
            "Epoch 315 of 512\n",
            "Epoch 316 of 512\n",
            "Epoch 317 of 512\n",
            "Epoch 318 of 512\n",
            "Epoch 319 of 512\n",
            "Epoch 320 of 512\n",
            "Epoch 321 of 512\n",
            "Epoch 322 of 512\n",
            "Epoch 323 of 512\n",
            "Epoch 324 of 512\n",
            "Epoch 325 of 512\n",
            "Epoch 326 of 512\n",
            "Epoch 327 of 512\n",
            "Epoch 328 of 512\n",
            "Epoch 329 of 512\n",
            "Epoch 330 of 512\n",
            "Epoch 331 of 512\n",
            "Epoch 332 of 512\n",
            "Epoch 333 of 512\n",
            "Epoch 334 of 512\n",
            "Epoch 335 of 512\n",
            "Epoch 336 of 512\n",
            "Epoch 337 of 512\n",
            "Epoch 338 of 512\n",
            "Epoch 339 of 512\n",
            "Epoch 340 of 512\n",
            "Epoch 341 of 512\n",
            "Epoch 342 of 512\n",
            "Epoch 343 of 512\n",
            "Epoch 344 of 512\n",
            "Epoch 345 of 512\n",
            "Epoch 346 of 512\n",
            "Epoch 347 of 512\n",
            "Epoch 348 of 512\n",
            "Epoch 349 of 512\n",
            "Epoch 350 of 512\n",
            "Epoch 351 of 512\n",
            "Epoch 352 of 512\n",
            "Epoch 353 of 512\n",
            "Epoch 354 of 512\n",
            "Epoch 355 of 512\n",
            "Epoch 356 of 512\n",
            "Epoch 357 of 512\n",
            "Epoch 358 of 512\n",
            "Epoch 359 of 512\n",
            "Epoch 360 of 512\n",
            "Epoch 361 of 512\n",
            "Epoch 362 of 512\n",
            "Epoch 363 of 512\n",
            "Epoch 364 of 512\n",
            "Epoch 365 of 512\n",
            "Epoch 366 of 512\n",
            "Epoch 367 of 512\n",
            "Epoch 368 of 512\n",
            "Epoch 369 of 512\n",
            "Epoch 370 of 512\n",
            "Epoch 371 of 512\n",
            "Epoch 372 of 512\n",
            "Epoch 373 of 512\n",
            "Epoch 374 of 512\n",
            "Epoch 375 of 512\n",
            "Epoch 376 of 512\n",
            "Epoch 377 of 512\n",
            "Epoch 378 of 512\n",
            "Epoch 379 of 512\n",
            "Epoch 380 of 512\n",
            "Epoch 381 of 512\n",
            "Epoch 382 of 512\n",
            "Epoch 383 of 512\n",
            "Epoch 384 of 512\n",
            "Epoch 385 of 512\n",
            "Epoch 386 of 512\n",
            "Epoch 387 of 512\n",
            "Epoch 388 of 512\n",
            "Epoch 389 of 512\n",
            "Epoch 390 of 512\n",
            "Epoch 391 of 512\n",
            "Epoch 392 of 512\n",
            "Epoch 393 of 512\n",
            "Epoch 394 of 512\n",
            "Epoch 395 of 512\n",
            "Epoch 396 of 512\n",
            "Epoch 397 of 512\n",
            "Epoch 398 of 512\n",
            "Epoch 399 of 512\n",
            "Epoch 400 of 512\n",
            "Epoch 401 of 512\n",
            "Epoch 402 of 512\n",
            "Epoch 403 of 512\n",
            "Epoch 404 of 512\n",
            "Epoch 405 of 512\n",
            "Epoch 406 of 512\n",
            "Epoch 407 of 512\n",
            "Epoch 408 of 512\n",
            "Epoch 409 of 512\n",
            "Epoch 410 of 512\n",
            "Epoch 411 of 512\n",
            "Epoch 412 of 512\n",
            "Epoch 413 of 512\n",
            "Epoch 414 of 512\n",
            "Epoch 415 of 512\n",
            "Epoch 416 of 512\n",
            "Epoch 417 of 512\n",
            "Epoch 418 of 512\n",
            "Epoch 419 of 512\n",
            "Epoch 420 of 512\n",
            "Epoch 421 of 512\n",
            "Epoch 422 of 512\n",
            "Epoch 423 of 512\n",
            "Epoch 424 of 512\n",
            "Epoch 425 of 512\n",
            "Epoch 426 of 512\n",
            "Epoch 427 of 512\n",
            "Epoch 428 of 512\n",
            "Epoch 429 of 512\n",
            "Epoch 430 of 512\n",
            "Epoch 431 of 512\n",
            "Epoch 432 of 512\n",
            "Epoch 433 of 512\n",
            "Epoch 434 of 512\n",
            "Epoch 435 of 512\n",
            "Epoch 436 of 512\n",
            "Epoch 437 of 512\n",
            "Epoch 438 of 512\n",
            "Epoch 439 of 512\n",
            "Epoch 440 of 512\n",
            "Epoch 441 of 512\n",
            "Epoch 442 of 512\n",
            "Epoch 443 of 512\n",
            "Epoch 444 of 512\n",
            "Epoch 445 of 512\n",
            "Epoch 446 of 512\n",
            "Epoch 447 of 512\n",
            "Epoch 448 of 512\n",
            "Epoch 449 of 512\n",
            "Epoch 450 of 512\n",
            "Epoch 451 of 512\n",
            "Epoch 452 of 512\n",
            "Epoch 453 of 512\n",
            "Epoch 454 of 512\n",
            "Epoch 455 of 512\n",
            "Epoch 456 of 512\n",
            "Epoch 457 of 512\n",
            "Epoch 458 of 512\n",
            "Epoch 459 of 512\n",
            "Epoch 460 of 512\n",
            "Epoch 461 of 512\n",
            "Epoch 462 of 512\n",
            "Epoch 463 of 512\n",
            "Epoch 464 of 512\n",
            "Epoch 465 of 512\n",
            "Epoch 466 of 512\n",
            "Epoch 467 of 512\n",
            "Epoch 468 of 512\n",
            "Epoch 469 of 512\n",
            "Epoch 470 of 512\n",
            "Epoch 471 of 512\n",
            "Epoch 472 of 512\n",
            "Epoch 473 of 512\n",
            "Epoch 474 of 512\n",
            "Epoch 475 of 512\n",
            "Epoch 476 of 512\n",
            "Epoch 477 of 512\n",
            "Epoch 478 of 512\n",
            "Epoch 479 of 512\n",
            "Epoch 480 of 512\n",
            "Epoch 481 of 512\n",
            "Epoch 482 of 512\n",
            "Epoch 483 of 512\n",
            "Epoch 484 of 512\n",
            "Epoch 485 of 512\n",
            "Epoch 486 of 512\n",
            "Epoch 487 of 512\n",
            "Epoch 488 of 512\n",
            "Epoch 489 of 512\n",
            "Epoch 490 of 512\n",
            "Epoch 491 of 512\n",
            "Epoch 492 of 512\n",
            "Epoch 493 of 512\n",
            "Epoch 494 of 512\n",
            "Epoch 495 of 512\n",
            "Epoch 496 of 512\n",
            "Epoch 497 of 512\n",
            "Epoch 498 of 512\n",
            "Epoch 499 of 512\n",
            "Epoch 500 of 512\n",
            "Epoch 501 of 512\n",
            "Epoch 502 of 512\n",
            "Epoch 503 of 512\n",
            "Epoch 504 of 512\n",
            "Epoch 505 of 512\n",
            "Epoch 506 of 512\n",
            "Epoch 507 of 512\n",
            "Epoch 508 of 512\n",
            "Epoch 509 of 512\n",
            "Epoch 510 of 512\n",
            "Epoch 511 of 512\n",
            "Epoch 512 of 512\n"
          ],
          "name": "stdout"
        },
        {
          "output_type": "display_data",
          "data": {
            "image/png": "[encoded data removed]",
            "text/plain": [
              "<Figure size 1080x720 with 1 Axes>"
            ]
          },
          "metadata": {
            "tags": [],
            "needs_background": "light"
          }
        }
      ]
    },
    {
      "cell_type": "markdown",
      "metadata": {
        "id": "C06YflAovJvj"
      },
      "source": [
        "## **Text generation (model evaluation): LSTM**"
      ]
    },
    {
      "cell_type": "code",
      "metadata": {
        "colab": {
          "base_uri": "https://localhost:8080/"
        },
        "id": "ewgk_2PXR4sD",
        "outputId": "933086b5-1c01-48eb-efaf-8ac1399a75df"
      },
      "source": [
        "for t in [0.1, 0.2, 0.5, 1.0, 2.0]:\n",
        "    print(f\"\\n\\tTemperature: {t}\")\n",
        "    print(generate_sample(lstm_model, seed_phrase=\"love death\", temperature=t))"
      ],
      "execution_count": 94,
      "outputs": [
        {
          "output_type": "stream",
          "text": [
            "\n",
            "\tTemperature: 0.1\n",
            "love death that i do more\n",
            " that he is but the strent to most my love to the worlds to their brow\n",
            " and deadst the world may still strain in my heart\n",
            " which thy worsh my friend have eyes so blamd\n",
            " for as as my true like to have thou mayst tooks my love shall the world is one\n",
            " so thy will\n",
            " and may state\n",
            " and therefore myself i bright make my mind no part\n",
            " the buds to say that thou thyself doth use my\n",
            "\n",
            "\tTemperature: 0.2\n",
            "love death that i do no poor now\n",
            " that if i h may i not then they her storn\n",
            " so that thou thyself is great begar is thou art myself i bring the pride\n",
            " and in my heart which thou art the seas and thou like sland\n",
            " to say mine own some prousting thy breathes to makes of your neer love in thee\n",
            " the heart that sweet ornament of many heal have remove\n",
            " for throw leavst that thy sweet semblance to set me \n",
            "\n",
            "\tTemperature: 0.5\n",
            "love deaths be that i know should behold against myself but to the most thou lovst thou art\n",
            " who have pride much in the write d say my love to the worlds to the dear dear\n",
            " that in the shows of the bind\n",
            " to say it dar not full thus is so strong from me\n",
            " let me be subseboth than hears are nothing will\n",
            " should i not thou thy self am find\n",
            " and that thou thy sour leisure thee thy self am for a memory\n",
            " \n",
            "\n",
            "\tTemperature: 1.0\n",
            "love death that i no precits\n",
            " and therefore date\n",
            " you words beauteous lass which stell thy will\n",
            " myself ill mire thee vanation\n",
            " till mine own and i am i with the did gay\n",
            " and these pateers would to worst him in when your mourn\n",
            " and times and it waster her feature\n",
            " how best i neal lease that you like to the worst things\n",
            " though dut your mony of thy will\n",
            " myse mayst tongryd\n",
            " but losed so i wronding \n",
            "\n",
            "\tTemperature: 2.0\n",
            "love deaths ourlive stabld\n",
            " lamb\n",
            " bareoupd days\n",
            " takes himain\n",
            " thoughtles great let good ah le fresf now\n",
            " nature mine wnh me for dwautions some\n",
            " ift slill sush count it gun do mine\n",
            " age he deaid canst night\n",
            " vanis plaze so\n",
            " but thy naurs obanbmbloking sense\n",
            " bies of yorame and pretchoselt and tir\n",
            " cunnosh dywealixn gave then the one of wordsfuluments active throu whose respect\n",
            " crownd\n",
            " likeoupd no\n"
          ],
          "name": "stdout"
        }
      ]
    },
    {
      "cell_type": "markdown",
      "metadata": {
        "id": "Er7yroJTvY57"
      },
      "source": [
        "Как и следовало ожидать, LSTM показывает лучший результат."
      ]
    },
    {
      "cell_type": "markdown",
      "metadata": {
        "id": "Jigw5pCJpQWU"
      },
      "source": [
        "### Saving and loading models"
      ]
    },
    {
      "cell_type": "markdown",
      "metadata": {
        "id": "c8Mtrb4ZpQWV"
      },
      "source": [
        "Save the model to the disk, then load it and generate text. Examples are available [here](https://pytorch.org/tutorials/beginner/saving_loading_models.html])."
      ]
    },
    {
      "cell_type": "code",
      "metadata": {
        "id": "QEedmVNBpQWW"
      },
      "source": [
        "# Saving and loading code here\n",
        "torch.save(lstm_model.state_dict(), 'lstm_sonnet.pth')"
      ],
      "execution_count": 95,
      "outputs": []
    },
    {
      "cell_type": "code",
      "metadata": {
        "colab": {
          "base_uri": "https://localhost:8080/"
        },
        "id": "kpHkigAxZZ3F",
        "outputId": "6a2280bd-e382-46f5-9df9-45d9c17640fc"
      },
      "source": [
        "new_lstm_model = LSTMCharRNN()\n",
        "new_lstm_model.load_state_dict(torch.load('lstm_sonnet.pth'))\n",
        "new_lstm_model.eval()"
      ],
      "execution_count": 96,
      "outputs": [
        {
          "output_type": "execute_result",
          "data": {
            "text/plain": [
              "LSTMCharRNN(\n",
              "  (embedding): Embedding(29, 64, padding_idx=2)\n",
              "  (lstm): LSTM(64, 128, batch_first=True)\n",
              "  (linear): Linear(in_features=128, out_features=29, bias=True)\n",
              ")"
            ]
          },
          "metadata": {
            "tags": []
          },
          "execution_count": 96
        }
      ]
    },
    {
      "cell_type": "code",
      "metadata": {
        "colab": {
          "base_uri": "https://localhost:8080/"
        },
        "id": "U4La9PVCZZ0N",
        "outputId": "c743a285-d112-4f8d-a31c-1f60fc86eb30"
      },
      "source": [
        "print(generate_sample(new_lstm_model, max_length=100, temperature=0.75))"
      ],
      "execution_count": 97,
      "outputs": [
        {
          "output_type": "stream",
          "text": [
            " babe do clake\n",
            " as thou consumps with thy outward pride their dead\n",
            " the chir seald thy will\n",
            " and wil\n"
          ],
          "name": "stdout"
        }
      ]
    }
  ]
}