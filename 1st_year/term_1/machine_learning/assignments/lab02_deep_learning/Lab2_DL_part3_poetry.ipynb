{
 "cells": [
  {
   "cell_type": "markdown",
   "metadata": {},
   "source": [
    "## Lab 2"
   ]
  },
  {
   "cell_type": "markdown",
   "metadata": {},
   "source": [
    "### Part 3. Poetry generation\n",
    "\n",
    "Let's try to generate some poetry using RNNs. \n",
    "\n",
    "You have several choices here: \n",
    "\n",
    "* The Shakespeare sonnets, file `sonnets.txt` available in the notebook directory.\n",
    "\n",
    "* Роман в стихах \"Евгений Онегин\" Александра Сергеевича Пушкина. В предобработанном виде доступен по [ссылке](https://github.com/attatrol/data_sources/blob/master/onegin.txt).\n",
    "\n",
    "* Some other text source, if it will be approved by the course staff.\n",
    "\n",
    "Text generation can be designed in several steps:\n",
    "    \n",
    "1. Data loading.\n",
    "2. Dictionary generation.\n",
    "3. Data preprocessing.\n",
    "4. Model (neural network) training.\n",
    "5. Text generation (model evaluation).\n"
   ]
  },
  {
   "cell_type": "code",
   "execution_count": 1,
   "metadata": {},
   "outputs": [],
   "source": [
    "import string\n",
    "import os"
   ]
  },
  {
   "cell_type": "markdown",
   "metadata": {},
   "source": [
    "### Data loading: Shakespeare"
   ]
  },
  {
   "cell_type": "markdown",
   "metadata": {},
   "source": [
    "Shakespeare sonnets are awailable at this [link](http://www.gutenberg.org/ebooks/1041?msg=welcome_stranger). In addition, they are stored in the same directory as this notebook (`sonnetes.txt`). Simple preprocessing is already done for you in the next cell: all technical info is dropped."
   ]
  },
  {
   "cell_type": "code",
   "execution_count": 3,
   "metadata": {
    "collapsed": true
   },
   "outputs": [],
   "source": [
    "if not os.path.exists('sonnets.txt'):\n",
    "    !wget https://raw.githubusercontent.com/girafe-ai/ml-course/22f_basic/homeworks_basic/lab02_deep_learning/sonnets.txt\n",
    "\n",
    "with open('sonnets.txt', 'r') as iofile:\n",
    "    text = iofile.readlines()\n",
    "    \n",
    "TEXT_START = 45\n",
    "TEXT_END = -368\n",
    "text = text[TEXT_START : TEXT_END]\n",
    "assert len(text) == 2616"
   ]
  },
  {
   "cell_type": "markdown",
   "metadata": {},
   "source": [
    "In opposite to the in-class practice, this time we want to predict complex text. Let's reduce the complexity of the task and lowercase all the symbols.\n",
    "\n",
    "Now variable `text` is a list of strings. Join all the strings into one and lowercase it."
   ]
  },
  {
   "cell_type": "markdown",
   "metadata": {},
   "source": [
    "### Data loading: \"Евгений Онегин\"\n"
   ]
  },
  {
   "cell_type": "code",
   "execution_count": 3,
   "metadata": {},
   "outputs": [],
   "source": [
    "# !wget https://raw.githubusercontent.com/attatrol/data_sources/master/onegin.txt\n",
    "    \n",
    "# with open('onegin.txt', 'r') as iofile:\n",
    "#     text = iofile.readlines()\n",
    "    \n",
    "# text = [x.replace('\\t\\t', '') for x in text]"
   ]
  },
  {
   "cell_type": "markdown",
   "metadata": {},
   "source": [
    "In opposite to the in-class practice, this time we want to predict complex text. Let's reduce the complexity of the task and lowercase all the symbols.\n",
    "\n",
    "Now variable `text` is a list of strings. Join all the strings into one and lowercase it."
   ]
  },
  {
   "cell_type": "code",
   "execution_count": 4,
   "metadata": {},
   "outputs": [],
   "source": [
    "# Join all the strings into one and lowercase it\n",
    "# Put result into variable text.\n",
    "text = [t.translate(str.maketrans('', '', string.punctuation)).lstrip().lower() for t in text if len(t) > 15]\n",
    "out = \"\".join(text)"
   ]
  },
  {
   "cell_type": "markdown",
   "metadata": {},
   "source": [
    "Put all the characters, that you've seen in the text, into variable `tokens`."
   ]
  },
  {
   "cell_type": "code",
   "execution_count": 5,
   "metadata": {},
   "outputs": [],
   "source": [
    "out = set(out)\n",
    "out.add(\"<pad>\")\n",
    "tokens = sorted(list(out))"
   ]
  },
  {
   "cell_type": "markdown",
   "metadata": {},
   "source": [
    "Create dictionary `token_to_idx = {<char>: <index>}` and dictionary `idx_to_token = {<index>: <char>}`"
   ]
  },
  {
   "cell_type": "code",
   "execution_count": 6,
   "metadata": {
    "collapsed": true
   },
   "outputs": [],
   "source": [
    "# dict <index>:<char>\n",
    "idx_to_token = dict((i, token) for i, token in enumerate(tokens))\n",
    "# dict <char>:<index>\n",
    "token_to_idx = dict((token, i) for i, token in idx_to_token.items())"
   ]
  },
  {
   "cell_type": "markdown",
   "metadata": {},
   "source": [
    "*Comment: in this task we have only 38 different tokens, so let's use one-hot encoding.*"
   ]
  },
  {
   "cell_type": "code",
   "execution_count": 9,
   "metadata": {},
   "outputs": [],
   "source": [
    "from collections.abc import Iterable\n",
    "import numpy.typing as npt\n",
    "import numpy as np\n",
    "import torch"
   ]
  },
  {
   "cell_type": "code",
   "execution_count": 39,
   "metadata": {},
   "outputs": [],
   "source": [
    "def word_tokens(tokens: Iterable) -> npt.ArrayLike:\n",
    "    return np.array([token_to_idx[token] for token in tokens])\n",
    "\n",
    "def sentence_tokens(batch: list) -> npt.ArrayLike:\n",
    "    return np.concatenate(list(map(word_tokens, batch)))\n",
    "\n",
    "\n",
    "def shape_text(text: list[str], max_tokens_len: int):\n",
    "    joined_text = \" \".join(text)\n",
    "    n_tokens = len(joined_text) // max_tokens_len\n",
    "    reshaped_text = []\n",
    "    for i in range(0, n_tokens * max_tokens_len, max_tokens_len):\n",
    "        reshaped_text.append(joined_text[i:i+max_tokens_len])\n",
    "    return reshaped_text\n",
    "\n",
    "def get_matrix(text: list[str],  input_len=None, token_to_idx=token_to_idx, pad='<pad>', batch_first=True):\n",
    "    max_input_len = input_len or max(map(len, text)) \n",
    "    output = np.zeros([len(text), max_input_len], 'int64') + token_to_idx[pad]\n",
    "    \n",
    "    for idx in range(len(text)):\n",
    "        line = sentence_tokens([text[idx]])\n",
    "        output[idx, :len(line)] = line\n",
    "    if  not batch_first:\n",
    "        output = output.T\n",
    "    return torch.tensor(output)"
   ]
  },
  {
   "cell_type": "markdown",
   "metadata": {},
   "source": [
    "### Building the model"
   ]
  },
  {
   "cell_type": "code",
   "execution_count": 40,
   "metadata": {},
   "outputs": [],
   "source": [
    "from torch import nn\n",
    "import torch.nn.functional as F"
   ]
  },
  {
   "cell_type": "markdown",
   "metadata": {},
   "source": [
    "Now we want to build and train recurrent neural net which would be able to something similar to Shakespeare's poetry.\n",
    "\n",
    "Let's use vanilla RNN, similar to the one created during the lesson."
   ]
  },
  {
   "cell_type": "code",
   "execution_count": 41,
   "metadata": {
    "collapsed": true
   },
   "outputs": [],
   "source": [
    "class VanillaCharRNN(nn.Module):\n",
    "   \n",
    "    def __init__(\n",
    "        self,\n",
    "        num_tokens: int=len(tokens),\n",
    "        embedding_size: int=64,\n",
    "        rnn_num_units: int=128\n",
    "    ):\n",
    "        super(VanillaCharRNN, self).__init__()\n",
    "        self.rnn_num_units = rnn_num_units\n",
    "        self.embedding = nn.Embedding(num_tokens, embedding_size)\n",
    "        self.rnn = nn.RNN(embedding_size, rnn_num_units, batch_first=True)\n",
    "        self.linear = nn.Linear(rnn_num_units, num_tokens)\n",
    "        \n",
    "    def forward(self, x, h_prev):\n",
    "        x_emb = self.embedding(x)\n",
    "        out, h_next = self.rnn(x_emb, h_prev)\n",
    "        logits = self.linear(out)\n",
    "        return h_next, logits\n",
    "    \n",
    "    def initial_state(self, batch_size):\n",
    "        return torch.zeros(1, batch_size, self.rnn_num_units, requires_grad=True)"
   ]
  },
  {
   "cell_type": "code",
   "execution_count": 42,
   "metadata": {},
   "outputs": [],
   "source": [
    "from collections.abc import Callable"
   ]
  },
  {
   "cell_type": "code",
   "execution_count": 66,
   "metadata": {},
   "outputs": [],
   "source": [
    "from tqdm import tqdm\n",
    "import matplotlib.pyplot as plt\n",
    "from IPython import display\n",
    "def fit_epoch(model: nn.Module, hidden_state: Iterable, tepoch: Iterable, everything: Iterable, batch_size: int, n_batches: int=16, ltsm: bool=False):\n",
    "    loss = nn.CrossEntropyLoss(ignore_index=token_to_idx['<pad>'])\n",
    "    running_loss = 0.0\n",
    "    for i in tepoch:\n",
    "        batch = everything[i:i+batch_size]\n",
    "        hidden_state, out = model(batch, hidden_state)\n",
    "        next_tokens = batch[:, 1:]\n",
    "\n",
    "        loss_ = loss(out[:, :-1].reshape(-1, len(tokens)), next_tokens.reshape(-1))\n",
    "        loss_.backward()\n",
    "\n",
    "        optimizer.step()\n",
    "        optimizer.zero_grad()\n",
    "\n",
    "        running_loss += loss_.item()\n",
    "        hidden_state.detach_()\n",
    "        hidden_state = hidden_state.detach()\n",
    "\n",
    "    running_loss /= n_batches\n",
    "    return hidden_state, running_loss\n",
    "\n",
    "\n",
    "def train_model(model: nn.Module, text: Iterable, optimizer: Callable, n_epochs: int=50, batch_size: int=16):\n",
    "\n",
    "    losses = []\n",
    "    shaped = shape_text(text, 60)\n",
    "\n",
    "    everything = get_matrix(shaped, 60)\n",
    "\n",
    "    state = model.initial_state(batch_size)\n",
    "\n",
    "    n_batches = everything.shape[0] // batch_size\n",
    "\n",
    "    for epoch in range(n_epochs):\n",
    "        with tqdm(range(0, n_batches * batch_size, batch_size)) as tepoch:\n",
    "            tepoch.set_description(f\"Epoch {epoch + 1}\")\n",
    "            state, epoch_loss = fit_epoch(model, state, tepoch, everything, batch_size, n_batches)\n",
    "            losses.append(epoch_loss)\n",
    "        \n",
    "        display.clear_output(wait=True)\n",
    "        plt.plot(losses)\n",
    "        plt.xlabel(\"epoch\")\n",
    "        plt.ylabel(\"loss\")\n",
    "        plt.title(\"Loss\")\n",
    "        plt.show()\n",
    "    return losses, state"
   ]
  },
  {
   "cell_type": "code",
   "execution_count": 71,
   "metadata": {},
   "outputs": [
    {
     "data": {
      "image/png": "[encoded data removed]",
      "text/plain": [
       "<Figure size 640x480 with 1 Axes>"
      ]
     },
     "metadata": {},
     "output_type": "display_data"
    }
   ],
   "source": [
    "model = VanillaCharRNN()\n",
    "optimizer = torch.optim.AdamW(model.parameters(), lr=3e-3, betas=[0.5, 0.5])\n",
    "vanilla_losses, vanilla_state = train_model(model, text, optimizer, n_epochs=200)"
   ]
  },
  {
   "cell_type": "markdown",
   "metadata": {},
   "source": [
    "Plot the loss function (axis X: number of epochs, axis Y: loss function)."
   ]
  },
  {
   "cell_type": "code",
   "execution_count": 83,
   "metadata": {},
   "outputs": [],
   "source": [
    "def generate_sample(model, seed_phrase='pay', max_length=400, temperature=1.0):\n",
    "    x_sequence = [token_to_idx[token] for token in seed_phrase]\n",
    "    x_sequence = torch.tensor([[x_sequence]], dtype=torch.long)\n",
    "    states = model.initial_state(batch_size=1)\n",
    "    \n",
    "    for i in range(len(seed_phrase) - 1):\n",
    "        states, _ = model(x_sequence[:, :, i], states)\n",
    "\n",
    "    for _ in range(max_length - len(seed_phrase)):\n",
    "        states, out = model(x_sequence[:,:, -1], states)\n",
    "        p_next = F.softmax(out / temperature, dim=-1).data.numpy()[0].ravel()\n",
    "        \n",
    "        next_ix = np.random.choice(len(tokens), p=p_next)\n",
    "        next_ix = torch.tensor([[[next_ix]]], dtype=torch.long)\n",
    "        x_sequence = torch.cat([x_sequence, next_ix], dim=2)\n",
    "    return ''.join([tokens[ix] for ix in x_sequence.data.numpy()[0][0]])"
   ]
  },
  {
   "cell_type": "code",
   "execution_count": 84,
   "metadata": {},
   "outputs": [
    {
     "name": "stdout",
     "output_type": "stream",
     "text": [
      "pay the prove\n",
      " the proud that thou art thou art thou fair that thou fair thou feeds to the proud that thou art that thou love to my sake\n",
      " thou be thou thy self thy constance and thou art thou forget thou fair the present is thy love thou fair thou wilt thou art thou fair the present make the sun no present is thy sweet he worse beauty is not more that thou be thou mayst for my hate\n",
      " the love and t\n"
     ]
    }
   ],
   "source": [
    "# An example of generated text.\n",
    "print(generate_sample(model, temperature=0.2))"
   ]
  },
  {
   "cell_type": "markdown",
   "metadata": {},
   "source": [
    "### More poetic model\n",
    "\n",
    "Let's use LSTM instead of vanilla RNN and compare the results."
   ]
  },
  {
   "cell_type": "markdown",
   "metadata": {},
   "source": [
    "Plot the loss function of the number of epochs. Does the final loss become better?"
   ]
  },
  {
   "cell_type": "code",
   "execution_count": 87,
   "metadata": {
    "collapsed": true
   },
   "outputs": [],
   "source": [
    "class LSTMCharRNN(nn.Module):\n",
    "\n",
    "    def __init__(self, num_tokens: int=len(tokens), embedding_size: int=64, rnn_num_units: int=128):\n",
    "        super(LSTMCharRNN, self).__init__()\n",
    "        self.rnn_num_units = rnn_num_units\n",
    "        self.embedding = nn.Embedding(num_tokens, embedding_size, padding_idx=token_to_idx['<pad>'])\n",
    "        self.lstm = nn.LSTM(embedding_size, rnn_num_units, batch_first=True)\n",
    "        self.linear = nn.Linear(rnn_num_units, num_tokens)\n",
    "        \n",
    "    def forward(self, x, states=None):\n",
    "        x_emb = self.embedding(x)\n",
    "        if states is None:\n",
    "            states = self.initial_state(1)\n",
    "        out, states = self.lstm(x_emb, states)\n",
    "        \n",
    "        logits = self.linear(out)\n",
    "        return states, logits\n",
    "    \n",
    "    def initial_state(self, batch_size):\n",
    "        return (\n",
    "            torch.zeros(1, batch_size, self.rnn_num_units, requires_grad=True),\n",
    "            torch.zeros(1, batch_size, self.rnn_num_units, requires_grad=True)\n",
    "        )"
   ]
  },
  {
   "cell_type": "code",
   "execution_count": 89,
   "metadata": {},
   "outputs": [],
   "source": [
    "def fit_epoch_LSTM(model: nn.Module, states: Iterable, tepoch: Iterable, everything: Iterable, batch_size: int, n_batches: int=16, ltsm: bool=False):\n",
    "    loss = nn.CrossEntropyLoss(ignore_index=token_to_idx['<pad>'])\n",
    "    running_loss = 0.0\n",
    "    for i in tepoch:\n",
    "        batch = everything[i:i+batch_size]\n",
    "        states, out = model(batch, states)\n",
    "        hidden_state, cell_state = states\n",
    "\n",
    "        next_tokens = batch[:, 1:]\n",
    "\n",
    "        loss_ = loss(out[:, :-1].reshape(-1, len(tokens)), next_tokens.reshape(-1))\n",
    "        loss_.backward()\n",
    "\n",
    "        optimizer.step()\n",
    "        optimizer.zero_grad()\n",
    "\n",
    "        running_loss += loss_.item()\n",
    "        hidden_state.detach_()\n",
    "        hidden_state = hidden_state.detach()\n",
    "\n",
    "        cell_state.detach_()\n",
    "        cell_state = cell_state.detach()\n",
    "\n",
    "        states = hidden_state, cell_state\n",
    "\n",
    "    running_loss /= n_batches\n",
    "    return states, running_loss\n",
    "\n",
    "\n",
    "def train_model_LSTM(model: nn.Module, text: Iterable, optimizer: Callable, n_epochs: int=50, batch_size: int=16):\n",
    "\n",
    "    losses = []\n",
    "    shaped = shape_text(text, 60)\n",
    "\n",
    "    everything = get_matrix(shaped, 60)\n",
    "\n",
    "    state = model.initial_state(batch_size)\n",
    "\n",
    "    n_batches = everything.shape[0] // batch_size\n",
    "\n",
    "    for epoch in range(n_epochs):\n",
    "        with tqdm(range(0, n_batches * batch_size, batch_size)) as tepoch:\n",
    "            tepoch.set_description(f\"Epoch {epoch + 1}\")\n",
    "            state, epoch_loss = fit_epoch_LSTM(model, state, tepoch, everything, batch_size, n_batches)\n",
    "            losses.append(epoch_loss)\n",
    "        \n",
    "        display.clear_output(wait=True)\n",
    "        plt.plot(losses)\n",
    "        plt.xlabel(\"epoch\")\n",
    "        plt.ylabel(\"loss\")\n",
    "        plt.title(\"Loss\")\n",
    "        plt.show()\n",
    "    return losses, state"
   ]
  },
  {
   "cell_type": "code",
   "execution_count": 91,
   "metadata": {},
   "outputs": [
    {
     "data": {
      "image/png": "[encoded data removed]",
      "text/plain": [
       "<Figure size 640x480 with 1 Axes>"
      ]
     },
     "metadata": {},
     "output_type": "display_data"
    }
   ],
   "source": [
    "model = LSTMCharRNN()\n",
    "optimizer = torch.optim.Adam(model.parameters())\n",
    "lstm_losses, lstm_state = train_model_LSTM(model, text, optimizer, n_epochs=50)"
   ]
  },
  {
   "cell_type": "markdown",
   "metadata": {},
   "source": [
    "Generate text using the trained net with different `temperature` parameter: `[0.1, 0.2, 0.5, 1.0, 2.0]`.\n",
    "\n",
    "Evaluate the results visually, try to interpret them."
   ]
  },
  {
   "cell_type": "code",
   "execution_count": 95,
   "metadata": {
    "collapsed": true
   },
   "outputs": [
    {
     "data": {
      "text/markdown": [
       "### Temperature 0.1"
      ],
      "text/plain": [
       "<IPython.core.display.Markdown object>"
      ]
     },
     "metadata": {},
     "output_type": "display_data"
    },
    {
     "name": "stdout",
     "output_type": "stream",
     "text": [
      "pay\n",
      " the world will the state\n",
      " the state the world with thee as thou the state\n",
      " which hath the state the world with thy self all the state\n",
      " which hate the world with thy strungest thou thy beauty seem thee\n",
      " the beauty so thee as thou art thee heart thou art thee as thou art to thee her fair i will be their rand so i love thee hath my heart to thee\n",
      " the beauty so love the state\n",
      " then beauty so thee\n"
     ]
    },
    {
     "data": {
      "text/markdown": [
       "### Temperature 0.2"
      ],
      "text/plain": [
       "<IPython.core.display.Markdown object>"
      ]
     },
     "metadata": {},
     "output_type": "display_data"
    },
    {
     "name": "stdout",
     "output_type": "stream",
     "text": [
      "pay\n",
      " so it the thought is my love thee heart thou art to thee\n",
      " the wark is thy self the thing my heart to my heart to thee\n",
      " and there is the rest in the world well shall i see thee\n",
      " when i say the world will be their state\n",
      " when i have stand the state of thee\n",
      " and they see the time to my love the strength and thee\n",
      " and there that i have state the state\n",
      " then thou thy self the think the world with \n"
     ]
    },
    {
     "data": {
      "text/markdown": [
       "### Temperature 0.5"
      ],
      "text/plain": [
       "<IPython.core.display.Markdown object>"
      ]
     },
     "metadata": {},
     "output_type": "display_data"
    },
    {
     "name": "stdout",
     "output_type": "stream",
     "text": [
      "pay\n",
      " so it is to the rest and look a found with most thou there\n",
      " that i being so and they and her words and best\n",
      " i am so then their sard soul not to me which can stell\n",
      " as thou art and the time not the world make\n",
      " then of thy to still the state\n",
      " when i say on the will with lack\n",
      " the still the world i writ her beauty so thee\n",
      " which my love that thou my soul\n",
      " and they thee hear the wretching and we\n"
     ]
    },
    {
     "data": {
      "text/markdown": [
       "### Temperature 1.0"
      ],
      "text/plain": [
       "<IPython.core.display.Markdown object>"
      ]
     },
     "metadata": {},
     "output_type": "display_data"
    },
    {
     "name": "stdout",
     "output_type": "stream",
     "text": [
      "pay\n",
      " the juest his guiltion wretest find in loverps are not\n",
      " again\n",
      " had must the death how lovd\n",
      " give as thr lies worst of thee as youth to have straight this mare\n",
      " it do your plighin left to my heart\n",
      " hath not with tus ne of wrich hare\n",
      " and in thee as my tis praises bessy\n",
      " me or thy speak and so thus and and love\n",
      " she must without the ceem\n",
      " nor thou grow to like and as under tends\n",
      " thine eyes me \n"
     ]
    },
    {
     "data": {
      "text/markdown": [
       "### Temperature 2.0"
      ],
      "text/plain": [
       "<IPython.core.display.Markdown object>"
      ]
     },
     "metadata": {},
     "output_type": "display_data"
    },
    {
     "name": "stdout",
     "output_type": "stream",
     "text": [
      "pay\n",
      " notrraokel\n",
      " dfori swandisonsweppiest ow tesbosd\n",
      " to m dnto myce ezvery liajes suw pyers out or windat\n",
      " as tuts ruth boillate wrinjlumd\n",
      " contrravudgg againwildap wild besafrucky hce\n",
      " not leakewmickbeluspmotny to needsts inhy\n",
      " thichous domflibstect beeds\n",
      " an wetifrlnufth the carfedilige crsar sconitlink oed antails this ecquivicippqixthixt paly wreffed\n",
      "lusinfulel withlindses lepjsep even\n",
      " mirty\n"
     ]
    }
   ],
   "source": [
    "for t in [0.1, 0.2, 0.5, 1.0, 2.0]:\n",
    "    display.display(display.Markdown(f\"### Temperature {t}\"))\n",
    "    print(generate_sample(model, temperature=t))"
   ]
  },
  {
   "cell_type": "markdown",
   "metadata": {},
   "source": [
    "### Saving and loading models"
   ]
  },
  {
   "cell_type": "markdown",
   "metadata": {},
   "source": [
    "Save the model to the disk, then load it and generate text. Examples are available [here](https://pytorch.org/tutorials/beginner/saving_loading_models.html])."
   ]
  },
  {
   "cell_type": "code",
   "execution_count": 96,
   "metadata": {
    "collapsed": true
   },
   "outputs": [],
   "source": [
    "torch.save(model.state_dict(), \"lstm_model.hd5\")\n",
    "del model"
   ]
  },
  {
   "cell_type": "code",
   "execution_count": 97,
   "metadata": {},
   "outputs": [
    {
     "data": {
      "text/plain": [
       "LSTMCharRNN(\n",
       "  (embedding): Embedding(29, 64, padding_idx=2)\n",
       "  (lstm): LSTM(64, 128, batch_first=True)\n",
       "  (linear): Linear(in_features=128, out_features=29, bias=True)\n",
       ")"
      ]
     },
     "execution_count": 97,
     "metadata": {},
     "output_type": "execute_result"
    }
   ],
   "source": [
    "model = LSTMCharRNN()\n",
    "model.load_state_dict(torch.load('lstm_model.hd5'))\n",
    "model.eval()"
   ]
  },
  {
   "cell_type": "code",
   "execution_count": 98,
   "metadata": {},
   "outputs": [
    {
     "data": {
      "text/markdown": [
       "### Temperature 0.1"
      ],
      "text/plain": [
       "<IPython.core.display.Markdown object>"
      ]
     },
     "metadata": {},
     "output_type": "display_data"
    },
    {
     "name": "stdout",
     "output_type": "stream",
     "text": [
      "pay\n",
      " so the world with the thin thy heart to thee\n",
      " the world with the time to me to thee\n",
      " the world will the state the world with thee\n",
      " then beauty so thee as thou thy strent so the state\n",
      " then thou thy self the think thou art to thee\n",
      " the world will the state the world with thee as thou the state\n",
      " then thou thy self the think the world with thee\n",
      " when i see thee the world with thy state\n",
      " then bea\n"
     ]
    },
    {
     "data": {
      "text/markdown": [
       "### Temperature 0.2"
      ],
      "text/plain": [
       "<IPython.core.display.Markdown object>"
      ]
     },
     "metadata": {},
     "output_type": "display_data"
    },
    {
     "name": "stdout",
     "output_type": "stream",
     "text": [
      "pay\n",
      " the fair shall be thou the state\n",
      " then beauty so love they see thee hear thee\n",
      " that i have soul the world with thy sweet seem woe\n",
      " the state the state thy self all the world well or thee\n",
      " that i have state\n",
      " and therefore the thing me thou art to thee\n",
      " the world will the state of heart\n",
      " and there is not thy fair shall i love they see thee\n",
      " that i have no me the recounted to thee\n",
      " the world wit\n"
     ]
    },
    {
     "data": {
      "text/markdown": [
       "### Temperature 0.5"
      ],
      "text/plain": [
       "<IPython.core.display.Markdown object>"
      ]
     },
     "metadata": {},
     "output_type": "display_data"
    },
    {
     "name": "stdout",
     "output_type": "stream",
     "text": [
      "pay\n",
      " the poor soulling thy deeds\n",
      " the rarth in my love to me i the hand\n",
      " and the thin thy heart to my self so deeds\n",
      " the present is thy seem now and all the fair\n",
      " make thee the wrance and they see my heart to my heart\n",
      " whilst i disprace\n",
      " which more that this should that which doth me as he in thine eyes\n",
      " for the subject which i my heart to me\n",
      " thou art that we worth the sun is this to thy percious\n"
     ]
    },
    {
     "data": {
      "text/markdown": [
       "### Temperature 1.0"
      ],
      "text/plain": [
       "<IPython.core.display.Markdown object>"
      ]
     },
     "metadata": {},
     "output_type": "display_data"
    },
    {
     "name": "stdout",
     "output_type": "stream",
     "text": [
      "pay\n",
      " so fair humpblight gaate\n",
      " till mee boot aften true in black dead\n",
      " hold that he their black\n",
      " for which should with a least i past that elis\n",
      " kink fe in the eyet which keen\n",
      " when i justill hath their own\n",
      " but up doot thy will\n",
      " the calls of their windst thou dost posiek depalacded her pleard\n",
      " and not papiy black and byet lies\n",
      " o tame and her to my lubtern so the which thou hose\n",
      " my lines outward\n"
     ]
    },
    {
     "data": {
      "text/markdown": [
       "### Temperature 2.0"
      ],
      "text/plain": [
       "<IPython.core.display.Markdown object>"
      ]
     },
     "metadata": {},
     "output_type": "display_data"
    },
    {
     "name": "stdout",
     "output_type": "stream",
     "text": [
      "paye\n",
      " wrint deecdod fresh who\n",
      " ums ibubqagenacd\n",
      " to remebletievourmblyfril\n",
      " anivityho atiod\n",
      " tided but ingrixwderiptivd abidned\n",
      " that dialove raimaslen say phhbwany lowdlon\n",
      " imy ap itsiugesy assawom\n",
      " thisd imphishming night\n",
      " ifty teembaciae ck by prided hod\n",
      " nekeasacenooy it had wing\n",
      " and byind whereformime o ten\n",
      " forted n towwouls knormyst ervairing vensequious elf lyfect\n",
      " whentews nomecomls voud\n"
     ]
    }
   ],
   "source": [
    "for t in [0.1, 0.2, 0.5, 1.0, 2.0]:\n",
    "    display.display(display.Markdown(f\"### Temperature {t}\"))\n",
    "    print(generate_sample(model, temperature=t))"
   ]
  },
  {
   "cell_type": "markdown",
   "metadata": {},
   "source": [
    "### References\n",
    "1. <a href='http://karpathy.github.io/2015/05/21/rnn-effectiveness/'> Andrew Karpathy blog post about RNN. </a> \n",
    "There are several examples of genration: Shakespeare texts, Latex formulas, Linux Sourse Code and children names.\n",
    "2. <a href='https://github.com/karpathy/char-rnn'> Repo with char-rnn code </a>\n",
    "3. Cool repo with PyTorch examples: [link](https://github.com/spro/practical-pytorch`)"
   ]
  }
 ],
 "metadata": {
  "anaconda-cloud": {},
  "kernelspec": {
   "display_name": "Python 3",
   "language": "python",
   "name": "python3"
  },
  "language_info": {
   "codemirror_mode": {
    "name": "ipython",
    "version": 3
   },
   "file_extension": ".py",
   "mimetype": "text/x-python",
   "name": "python",
   "nbconvert_exporter": "python",
   "pygments_lexer": "ipython3",
   "version": "3.10.8 (tags/v3.10.8:aaaf517, Oct 11 2022, 16:50:30) [MSC v.1933 64 bit (AMD64)]"
  },
  "vscode": {
   "interpreter": {
    "hash": "7abe41bf88626c8179a12d706309ac1665b0164ec3bd4c11d7418ed9f0904ed3"
   }
  }
 },
 "nbformat": 4,
 "nbformat_minor": 2
}
