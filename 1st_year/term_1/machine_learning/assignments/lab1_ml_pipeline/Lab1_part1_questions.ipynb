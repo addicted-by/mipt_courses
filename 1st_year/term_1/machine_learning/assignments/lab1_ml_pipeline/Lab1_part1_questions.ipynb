{
  "cells": [
    {
      "cell_type": "markdown",
      "metadata": {
        "id": "3demo8Hweg9J"
      },
      "source": [
        "*Credits: materials from this notebook belong to YSDA [Practical DL](https://github.com/yandexdataschool/Practical_DL) course. Special thanks for making them available online.*"
      ]
    },
    {
      "cell_type": "markdown",
      "metadata": {
        "id": "4UdC-kvqeg9N"
      },
      "source": [
        "# Lab assignment №1, part 1\n",
        "\n",
        "This lab assignment consists of several parts. You are supposed to make some transformations, train some models, estimate the quality of the models and explain your results.\n",
        "\n",
        "Several comments:\n",
        "* Don't hesitate to ask questions, it's a good practice.\n",
        "* No private/public sharing, please. The copied assignments will be graded with 0 points.\n",
        "* Blocks of this lab will be graded separately."
      ]
    },
    {
      "cell_type": "markdown",
      "metadata": {
        "id": "zFhqlJ9zeg9O"
      },
      "source": [
        "## 1. Matrix differentiation"
      ]
    },
    {
      "cell_type": "markdown",
      "metadata": {
        "id": "8zSqT_pBeg9P"
      },
      "source": [
        "Since it easy to google every task please please please try to undestand what's going on. The \"just answer\" thing will be not counted, make sure to present derivation of your solution. It is absolutely OK if you found an answer on web then just exercise in $\\LaTeX$ copying it into here."
      ]
    },
    {
      "cell_type": "markdown",
      "metadata": {
        "id": "sgXVBZWPeg9Q"
      },
      "source": [
        "Useful links: \n",
        "[1](http://www.machinelearning.ru/wiki/images/2/2a/Matrix-Gauss.pdf)\n",
        "[2](http://www.atmos.washington.edu/~dennis/MatrixCalculus.pdf)"
      ]
    },
    {
      "cell_type": "markdown",
      "metadata": {
        "id": "8yAGufFteg9Q"
      },
      "source": [
        "## ex. 1"
      ]
    },
    {
      "cell_type": "markdown",
      "metadata": {
        "id": "t64nWjtFeg9R"
      },
      "source": [
        "$$  \n",
        "y = x^Tx,  \\quad x \\in \\mathbb{R}^N \n",
        "$$"
      ]
    },
    {
      "cell_type": "markdown",
      "metadata": {
        "id": "teKeK_t5eg9R"
      },
      "source": [
        "$$\n",
        "\\frac{dy}{dx} = 2x.\n",
        "$$ "
      ]
    },
    {
      "cell_type": "markdown",
      "metadata": {},
      "source": [
        "### In details"
      ]
    },
    {
      "cell_type": "markdown",
      "metadata": {
        "collapsed": true,
        "id": "ODyVy2oteg9S",
        "jupyter": {
          "outputs_hidden": true
        }
      },
      "source": [
        "Using the property from the [1](http://www.machinelearning.ru/wiki/images/2/2a/Matrix-Gauss.pdf)-st link:\n",
        "$$\n",
        "    \\dfrac{d}{dx} x^TAx = \\left(A + A^T\\right)x,\n",
        "$$\n",
        "we can obtain the desired derivative:\n",
        "$$\n",
        "    \\dfrac{dy}{dx} = \\dfrac{d}{dx} \\left(x^TEx\\right) = \\left(E + E^T\\right)x = 2x.\n",
        "$$\n",
        "<p align=\"right\"> <span align=\"right\">&#9632;</span> </p>"
      ]
    },
    {
      "cell_type": "markdown",
      "metadata": {
        "id": "SrooIy6Ceg9T"
      },
      "source": [
        "## ex. 2"
      ]
    },
    {
      "cell_type": "markdown",
      "metadata": {
        "id": "ZbHe784Deg9T"
      },
      "source": [
        "$$ y = tr(AB) \\quad A,B \\in \\mathbb{R}^{N \\times N} $$ "
      ]
    },
    {
      "cell_type": "markdown",
      "metadata": {
        "id": "Xa8wXxv8eg9U"
      },
      "source": [
        "$$\n",
        "\\frac{\\partial y}{\\partial A} = \\dfrac{\\partial \\left(\\mathrm{tr}(AB)\\right)}{\\partial A} = B^T\n",
        "$$"
      ]
    },
    {
      "cell_type": "markdown",
      "metadata": {},
      "source": [
        "### In details"
      ]
    },
    {
      "cell_type": "markdown",
      "metadata": {
        "collapsed": true,
        "id": "mMacZwqVeg9U",
        "jupyter": {
          "outputs_hidden": true
        }
      },
      "source": [
        "Lets just rewrite the trace of matrix multiplication in a scalar form:\n",
        "$$\n",
        "    \\mathrm{tr}\\left(AB\\right) = \\sum\\limits_{i=1}^N\\sum\\limits_{j=1}^N a_{ij}b_{ji}\n",
        "$$\n",
        "So, the $\\dfrac{\\partial \\mathrm{tr}\\left(AB\\right)}{\\partial A} = [b_{ji}] = B^T. \\hspace{2.5cm}$\n",
        "<p align=\"right\"> <span align=\"right\">&#9632;</span> </p>"
      ]
    },
    {
      "cell_type": "markdown",
      "metadata": {
        "id": "0JOaWVjOeg9V"
      },
      "source": [
        "## ex. 3"
      ]
    },
    {
      "cell_type": "markdown",
      "metadata": {
        "id": "zS3DR-uSeg9V"
      },
      "source": [
        "$$  \n",
        "y = x^TAc , \\quad A\\in \\mathbb{R}^{N \\times N}, x\\in \\mathbb{R}^{N}, c\\in \\mathbb{R}^{N} \n",
        "$$"
      ]
    },
    {
      "cell_type": "markdown",
      "metadata": {
        "id": "NnXWh5jTeg9V"
      },
      "source": [
        "$$\n",
        "\\frac{dy}{dx} = Ac\n",
        "$$"
      ]
    },
    {
      "cell_type": "markdown",
      "metadata": {
        "id": "8jf3TmuAeg9V"
      },
      "source": [
        "$$\n",
        "\\frac{dy}{dA} = xc^T\n",
        "$$ "
      ]
    },
    {
      "cell_type": "markdown",
      "metadata": {
        "id": "UR8wdWAQeg9W"
      },
      "source": [
        "Hint for the latter (one of the ways): use *ex. 2* result and the fact \n",
        "$$\n",
        "tr(ABC) = tr (CAB)\n",
        "$$"
      ]
    },
    {
      "cell_type": "markdown",
      "metadata": {},
      "source": [
        "### In details"
      ]
    },
    {
      "cell_type": "markdown",
      "metadata": {
        "collapsed": true,
        "id": "ePUB_Apmeg9W",
        "jupyter": {
          "outputs_hidden": true
        }
      },
      "source": [
        "1. $$\\dfrac{\\partial y}{\\partial x} = \\dfrac{\\partial (Ac)^T x}{dx} = A\\cdot c.$$\n",
        "\n",
        "2. $$ \\frac{\\partial{y}}{\\partial{a_{i,j}}} = \\frac{\\partial}{\\partial{a_{i,j}}}\\left( \\sum_{i,j=1}^{N} a_{i,j}x_{i}c_{j} \\right) = x_{i}c_{j} \\rightarrow $$ \n",
        "$$ \\frac{dy}{dA} = x \\cdot c^{T} $$ \n",
        "<p align=\"right\"> <span align=\"right\">&#9632;</span> </p>"
      ]
    },
    {
      "cell_type": "markdown",
      "metadata": {
        "id": "yOVVNVVaeg9W"
      },
      "source": [
        "## ex. 4"
      ]
    },
    {
      "cell_type": "markdown",
      "metadata": {
        "id": "4MY0LiNPeg9X"
      },
      "source": [
        "Classic matrix factorization example. Given matrix $X$ you need to find $A$, $S$ to approximate $X$. This can be done by simple gradient descent iteratively alternating $A$ and $S$ updates.\n",
        "$$\n",
        "J = || X - AS ||_F^2  , \\quad A\\in \\mathbb{R}^{N \\times R} , \\quad S\\in \\mathbb{R}^{R \\times M}\n",
        "$$\n",
        "$$\n",
        "\\frac{dJ}{dS} = ? \n",
        "$$\n",
        "\n",
        "You may use one of the following approaches:"
      ]
    },
    {
      "cell_type": "markdown",
      "metadata": {
        "id": "lyIznaSGeg9X"
      },
      "source": [
        "#### First approach\n",
        "Using ex.2 and the fact:\n",
        "$$\n",
        "|| X ||_F^2 = tr(XX^T) \n",
        "$$ \n",
        "it is easy to derive gradients (you can find it in one of the refs). "
      ]
    },
    {
      "cell_type": "markdown",
      "metadata": {},
      "source": [
        "$$\n",
        "\\frac{dJ}{dS} = \\frac{\\partial[tr(X - AS)(X-AS)^T]}{\\partial S} = \\frac{\\partial[tr(XX^T - XS^TA^T-ASX^T+ASS^TA^T)]}{\\partial S} = \n",
        "$$\n",
        "\n",
        "$$ = - \\frac{\\partial[tr(XS^TA^T)]}{\\partial S} - \\frac{\\partial[tr(ASX^T)]}{\\partial S} + \\frac{\\partial[tr(ASS^TA^T)]}{\\partial S} = \n",
        "$$\n",
        "\n",
        "\n",
        "$$ = - \\frac{\\partial[tr(S^TA^TX)]}{\\partial S} - \\frac{\\partial[tr(SX^TA)]}{\\partial S} + \\frac{\\partial[tr(SS^TA^TA)]}{\\partial S} = -A^TX-X^TA+S^TA^TA+A^TAS=-2A^TX+2A^TAS\n",
        "$$\n",
        "\n",
        "$$ \\frac{dJ}{dS} =2 \\cdot A^T (A \\cdot S - X)\n",
        "$$\n",
        "<p align=\"right\"> <span align=\"right\">&#9632;</span> </p>"
      ]
    },
    {
      "cell_type": "markdown",
      "metadata": {
        "id": "vlArgBkoeg9X"
      },
      "source": [
        "#### Second approach\n",
        "You can use *slightly different techniques* if they suits you. Take a look at this derivation:\n",
        "<img src=\"https://github.com/girafe-ai/ml-course/blob/22f_basic/homeworks/lab01_ml_pipeline/grad.png?raw=1\">\n",
        "(excerpt from [Handbook of blind source separation, Jutten, page 517](https://books.google.ru/books?id=PTbj03bYH6kC&printsec=frontcover&dq=Handbook+of+Blind+Source+Separation&hl=en&sa=X&ved=0ahUKEwi-q_apiJDLAhULvXIKHVXJDWcQ6AEIHDAA#v=onepage&q=Handbook%20of%20Blind%20Source%20Separation&f=false), open for better picture)."
      ]
    },
    {
      "cell_type": "markdown",
      "metadata": {
        "id": "zSafdmT0eg9X"
      },
      "source": [
        "#### Third approach\n",
        "And finally we can use chain rule! \n",
        "let $ F = AS $ \n",
        "\n",
        "**Find**\n",
        "$$\n",
        "\\frac{dJ}{dF} =  \n",
        "$$ \n",
        "and \n",
        "$$\n",
        "\\frac{dF}{dS} =  \n",
        "$$ \n",
        "(the shape should be $ NM \\times RM )$.\n",
        "\n",
        "Now it is easy do get desired gradients:\n",
        "$$\n",
        "\\frac{dJ}{dS} =  \n",
        "$$ "
      ]
    },
    {
      "cell_type": "markdown",
      "metadata": {
        "collapsed": true,
        "id": "pIYjYw_Weg9Y",
        "jupyter": {
          "outputs_hidden": true
        }
      },
      "source": [
        "## 2. kNN questions\n",
        "Here come the questions from the assignment0_01. Please, refer to the assignment0_01 to get the context of the questions."
      ]
    },
    {
      "cell_type": "markdown",
      "metadata": {
        "id": "OIAdqi0heg9Y"
      },
      "source": [
        "### Question 1\n",
        "\n",
        "Notice the structured patterns in the distance matrix, where some rows or columns are visible brighter. (Note that with the default color scheme black indicates low distances while white indicates high distances.)\n",
        "\n",
        "- What in the data is the cause behind the distinctly bright rows?\n",
        "- What causes the columns?\n",
        "\n",
        "*Your Answer:*\n",
        "\n",
        "* These rows can be expained by the fact that this observation (in out case it is points) is considerably different from the training ones, and that these points (observations) were absent from the training set.\n",
        "\n",
        "* This is possible if the train dataset does not share the same data as the test set dataset. "
      ]
    },
    {
      "cell_type": "markdown",
      "metadata": {
        "id": "qYgUKzbueg9Y"
      },
      "source": [
        "### Question 2\n",
        "\n",
        "We can also use other distance metrics such as L1 distance.\n",
        "For pixel values $p_{ij}^{(k)}$ at location $(i,j)$ of some image $I_k$, \n",
        "\n",
        "the mean $\\mu$ across all pixels over all images is $$\\mu=\\frac{1}{nhw}\\sum_{k=1}^n\\sum_{i=1}^{h}\\sum_{j=1}^{w}p_{ij}^{(k)}$$\n",
        "And the pixel-wise mean $\\mu_{ij}$ across all images is \n",
        "$$\\mu_{ij}=\\frac{1}{n}\\sum_{k=1}^np_{ij}^{(k)}.$$\n",
        "The general standard deviation $\\sigma$ and pixel-wise standard deviation $\\sigma_{ij}$ is defined similarly.\n",
        "\n",
        "Which of the following preprocessing steps will not change the performance of a Nearest Neighbor classifier that uses L1 distance? Select all that apply.\n",
        "1. Subtracting the mean $\\mu$ ($\\tilde{p}_{ij}^{(k)}=p_{ij}^{(k)}-\\mu$.)\n",
        "2. Subtracting the per pixel mean $\\mu_{ij}$  ($\\tilde{p}_{ij}^{(k)}=p_{ij}^{(k)}-\\mu_{ij}$.)\n",
        "3. Subtracting the mean $\\mu$ and dividing by the standard deviation $\\sigma$.\n",
        "4. Subtracting the pixel-wise mean $\\mu_{ij}$ and dividing by the pixel-wise standard deviation $\\sigma_{ij}$.\n",
        "5. Rotating the coordinate axes of the data.\n",
        "\n",
        "*Your Answer:* 1, 3\n",
        "\n",
        "\n",
        "*Your Explanation:*\n",
        "1. <font color=\"green\">True</font>. It obviously follows from:\n",
        "$$\n",
        "\\big|\\big|\\tilde{p}_{ij}^{(k)} - \\tilde{p}_{ls}^{(k)}\\big|\\big|_1 = \\Big|\\Big|\\left(p_{ij}^{(k)} - \\mu - \\left(p_{ls}^{(k)} - \\mu\\right)\\right)\\Big|\\Big|_1 = \\big|\\big|p_{ij}^{(k)} - p_{ls}^{(k)}\\big|\\big|_1\n",
        "$$\n",
        "2. <font color=\"red\">False</font>. Since that per pixel mean can be different:\n",
        "$$\n",
        "\\dfrac{1}{n} \\sum\\limits_{k=1}^n p_{ij}^{(k)} \\neq \\dfrac{1}{n} \\sum\\limits_{k=1}^n p_{ls}^{(k)}\n",
        "$$\n",
        "the distances may not be equal. So it is possible, that:\n",
        "$$\n",
        "\\big|\\big|\\tilde{p}^{(k)}_{ij} - \\tilde{p}^{(k)}_{ls}\\big|\\big|_1 \\neq \\big|\\big| p_{ij}^{(k)} - p_{ls}^{(k)}\\big|\\big|.\n",
        "$$\n",
        "3. <font color=\"green\">True</font>. Let's assume that $||p_1 - p_2||_1 < ||p_1-p_3||_1$:\n",
        "$$\n",
        "\\begin{array}{c}\n",
        "\\big|\\big|\\tilde{p}_1 - \\tilde{p}_2\\big|\\big|_1 = \\Bigg|\\Bigg|\\dfrac{p_{1}^{(k)} - \\mu}{\\sigma} - \\dfrac{p_{2}^{(k)} - \\mu}{\\sigma}\\Bigg|\\Bigg|_1 = \\\\[0.5cm] = \\dfrac{1}{\\sigma}\\big|\\big|p_1 - p_2\\big|\\big|_1 < \\dfrac{1}{\\sigma}||p_1 - p_3||_1 = \\big|\\big|\\tilde{p}_1 - \\tilde{p}_3\\big|\\big|_1\n",
        "\\end{array}\n",
        "$$\n",
        "Hence, the ordering of sorted distances wont change.\n",
        "\n",
        "4. <font color=\"red\">False</font>. The same reasoning as for the 2-nd case;\n",
        "5. <font color=\"red\">False</font>. Let me give an example, in which it is not satisfy. Consider the rotation matrix, e.g.:\n",
        "$$\n",
        "A(\\theta) = \\begin{bmatrix}\n",
        " \\cos \\theta & \\mp \\sin\\theta \\\\\n",
        " \\pm \\sin\\theta & \\cos\\theta\n",
        "\\end{bmatrix}\n",
        "$$\n",
        "$$\n",
        "A\\left(\\dfrac{\\pi}{4}\\right) = \\begin{bmatrix} \n",
        "    \\dfrac{\\sqrt{2}}{2} & -\\dfrac{\\sqrt{2}}{2}\\\\[0.5cm]\n",
        "    \\dfrac{\\sqrt{2}}{2} & \\dfrac{\\sqrt{2}}{2}\n",
        "\\end{bmatrix}\n",
        "$$\n",
        "And lets consider two training points $x_1 = (2,1)$ and $x_2 = (0, 1)$ and one test point $x_3 = (1,0)$. Then lets compute distances:\n",
        "$$\n",
        "||x_3 - x_1||_1 = ||x_2 - x_1||_1 = 2\n",
        "$$\n",
        "So, the sorted distances will be like $\\begin{bmatrix} x_1 & x_2 \\end{bmatrix}^{\\intercal}$.\n",
        "\n",
        "After transformation:\n",
        "$$\n",
        "x_1' = Ax_1 = \\begin{bmatrix} \\dfrac{3\\sqrt{2}}{2} & \\sqrt{2}  \\end{bmatrix}^{\\intercal}\n",
        "$$\n",
        "$$\n",
        "x_2' = Ax_2 = \\begin{bmatrix} -\\dfrac{\\sqrt{2}}{2} & \\dfrac{\\sqrt{2}}{2}  \\end{bmatrix}^{\\intercal}\n",
        "$$\n",
        "$$\n",
        "x_3' = Ax_3 = \\begin{bmatrix} \\dfrac{\\sqrt{2}}{2} & \\dfrac{\\sqrt{2}}{2}  \\end{bmatrix}^{\\intercal}\n",
        "$$\n",
        "So, we have now \n",
        "$$\n",
        "||x_1' - x_3'|| = \\dfrac{5}{2}\\sqrt{2}\n",
        "$$\n",
        "and\n",
        "$$\n",
        "||x_2' - x_3'|| = 2\\sqrt{2}.\n",
        "$$.\n",
        "And the sorted distances: $\\begin{bmatrix} x_2 & x_3 \\end{bmatrix}^{\\intercal}$ which is not the same that was before transformation."
      ]
    },
    {
      "cell_type": "markdown",
      "metadata": {
        "id": "dHINpECCeg9Z"
      },
      "source": [
        "## Question 3\n",
        "\n",
        "Which of the following statements about $k$-Nearest Neighbor ($k$-NN) are true in a classification setting, and for all $k$? Select all that apply.\n",
        "1. The decision boundary (hyperplane between classes in feature space) of the k-NN classifier is linear.\n",
        "2. The training error of a 1-NN will always be lower than that of 5-NN.\n",
        "3. The test error of a 1-NN will always be lower than that of a 5-NN.\n",
        "4. The time needed to classify a test example with the k-NN classifier grows with the size of the training set.\n",
        "5. None of the above.\n",
        "\n",
        "*Your Answer:* 2, 4\n",
        "\n",
        "\n",
        "*Your Explanation:*\n",
        "\n",
        "\n"
      ]
    },
    {
      "cell_type": "markdown",
      "metadata": {},
      "source": [
        "1. This is <font color=\"red\">false</font>. Mere non-linear separated data leads to non-linear boundaries (norms used deep into the knn are not linear ones).\n",
        "2. <font color=\"green\">True</font>. Training error will always be lower for 1-NN classifier cause it will be always just zero. For 5-NN classifier it may not be treated as zero. Zero will be just a lower bound.\n",
        "3. <font color=\"red\">False</font>. At k=1, the KNN tends to closely follow the training data and thus shows a high training score. But, in comparison, the test score is quite low, it has so bad robustness, thus indicating overfitting. But as k increases, the KNN takes more data into account. So it wont be ever. Hence, it is false statement.\n",
        "\n",
        "4. <font color=\"green\">True</font>. It is the obvious one due to the large number of distances that we must compute for the new test object (we must compute and sort distances based on training data). \n",
        "\n",
        "5. <font color=\"red\">False. </font>"
      ]
    },
    {
      "cell_type": "markdown",
      "metadata": {},
      "source": []
    }
  ],
  "metadata": {
    "colab": {
      "provenance": []
    },
    "kernelspec": {
      "display_name": "Python 3.10.8 64-bit",
      "language": "python",
      "name": "python3"
    },
    "language_info": {
      "codemirror_mode": {
        "name": "ipython",
        "version": 3
      },
      "file_extension": ".py",
      "mimetype": "text/x-python",
      "name": "python",
      "nbconvert_exporter": "python",
      "pygments_lexer": "ipython3",
      "version": "3.10.8"
    },
    "vscode": {
      "interpreter": {
        "hash": "7abe41bf88626c8179a12d706309ac1665b0164ec3bd4c11d7418ed9f0904ed3"
      }
    }
  },
  "nbformat": 4,
  "nbformat_minor": 0
}
